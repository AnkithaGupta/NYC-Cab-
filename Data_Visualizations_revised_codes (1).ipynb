{
 "cells": [
  {
   "cell_type": "code",
   "execution_count": 1,
   "id": "c9af8dbf",
   "metadata": {},
   "outputs": [],
   "source": [
    "import pandas as pd\n",
    "import sys\n",
    "import matplotlib.pyplot as plt\n",
    "\n",
    "\n",
    "pd.set_option('display.max_columns', None)\n",
    "pd.set_option('display.max_rows', None)"
   ]
  },
  {
   "cell_type": "code",
   "execution_count": 85,
   "id": "70594a85",
   "metadata": {},
   "outputs": [
    {
     "name": "stdout",
     "output_type": "stream",
     "text": [
      "Collecting pyarrow\n",
      "  Downloading pyarrow-11.0.0-cp39-cp39-macosx_10_14_x86_64.whl (24.5 MB)\n",
      "\u001b[K     |█▉                              | 1.4 MB 2.8 MB/s eta 0:00:09"
     ]
    },
    {
     "data": {
      "text/html": [
       "<b>limit_output extension: Maximum message size of 10000 exceeded with 29130 characters</b>"
      ]
     },
     "metadata": {},
     "output_type": "display_data"
    }
   ],
   "source": [
    "!{sys.executable} -m pip install pyarrow"
   ]
  },
  {
   "cell_type": "code",
   "execution_count": 2,
   "id": "f0d2b297",
   "metadata": {},
   "outputs": [],
   "source": [
    "trip_data_11 = pd.read_parquet(\"yellow_tripdata_2022-11.parquet\")"
   ]
  },
  {
   "cell_type": "code",
   "execution_count": 3,
   "id": "de0d1007",
   "metadata": {},
   "outputs": [
    {
     "data": {
      "text/html": [
       "<div>\n",
       "<style scoped>\n",
       "    .dataframe tbody tr th:only-of-type {\n",
       "        vertical-align: middle;\n",
       "    }\n",
       "\n",
       "    .dataframe tbody tr th {\n",
       "        vertical-align: top;\n",
       "    }\n",
       "\n",
       "    .dataframe thead th {\n",
       "        text-align: right;\n",
       "    }\n",
       "</style>\n",
       "<table border=\"1\" class=\"dataframe\">\n",
       "  <thead>\n",
       "    <tr style=\"text-align: right;\">\n",
       "      <th></th>\n",
       "      <th>VendorID</th>\n",
       "      <th>tpep_pickup_datetime</th>\n",
       "      <th>tpep_dropoff_datetime</th>\n",
       "      <th>passenger_count</th>\n",
       "      <th>trip_distance</th>\n",
       "      <th>RatecodeID</th>\n",
       "      <th>store_and_fwd_flag</th>\n",
       "      <th>PULocationID</th>\n",
       "      <th>DOLocationID</th>\n",
       "      <th>payment_type</th>\n",
       "      <th>fare_amount</th>\n",
       "      <th>extra</th>\n",
       "      <th>mta_tax</th>\n",
       "      <th>tip_amount</th>\n",
       "      <th>tolls_amount</th>\n",
       "      <th>improvement_surcharge</th>\n",
       "      <th>total_amount</th>\n",
       "      <th>congestion_surcharge</th>\n",
       "      <th>airport_fee</th>\n",
       "    </tr>\n",
       "  </thead>\n",
       "  <tbody>\n",
       "    <tr>\n",
       "      <th>0</th>\n",
       "      <td>1</td>\n",
       "      <td>2022-11-01 00:51:22</td>\n",
       "      <td>2022-11-01 00:56:24</td>\n",
       "      <td>1.0</td>\n",
       "      <td>0.6</td>\n",
       "      <td>1.0</td>\n",
       "      <td>N</td>\n",
       "      <td>151</td>\n",
       "      <td>151</td>\n",
       "      <td>2</td>\n",
       "      <td>4.5</td>\n",
       "      <td>0.5</td>\n",
       "      <td>0.5</td>\n",
       "      <td>0.00</td>\n",
       "      <td>0.0</td>\n",
       "      <td>0.3</td>\n",
       "      <td>5.80</td>\n",
       "      <td>0.0</td>\n",
       "      <td>0.0</td>\n",
       "    </tr>\n",
       "    <tr>\n",
       "      <th>1</th>\n",
       "      <td>1</td>\n",
       "      <td>2022-11-01 00:39:43</td>\n",
       "      <td>2022-11-01 00:48:44</td>\n",
       "      <td>0.0</td>\n",
       "      <td>1.8</td>\n",
       "      <td>1.0</td>\n",
       "      <td>N</td>\n",
       "      <td>90</td>\n",
       "      <td>79</td>\n",
       "      <td>1</td>\n",
       "      <td>8.5</td>\n",
       "      <td>3.0</td>\n",
       "      <td>0.5</td>\n",
       "      <td>3.05</td>\n",
       "      <td>0.0</td>\n",
       "      <td>0.3</td>\n",
       "      <td>15.35</td>\n",
       "      <td>2.5</td>\n",
       "      <td>0.0</td>\n",
       "    </tr>\n",
       "    <tr>\n",
       "      <th>2</th>\n",
       "      <td>1</td>\n",
       "      <td>2022-11-01 00:55:01</td>\n",
       "      <td>2022-11-01 01:01:35</td>\n",
       "      <td>0.0</td>\n",
       "      <td>2.0</td>\n",
       "      <td>1.0</td>\n",
       "      <td>N</td>\n",
       "      <td>137</td>\n",
       "      <td>141</td>\n",
       "      <td>1</td>\n",
       "      <td>8.0</td>\n",
       "      <td>3.0</td>\n",
       "      <td>0.5</td>\n",
       "      <td>2.36</td>\n",
       "      <td>0.0</td>\n",
       "      <td>0.3</td>\n",
       "      <td>14.16</td>\n",
       "      <td>2.5</td>\n",
       "      <td>0.0</td>\n",
       "    </tr>\n",
       "    <tr>\n",
       "      <th>3</th>\n",
       "      <td>1</td>\n",
       "      <td>2022-11-01 00:24:49</td>\n",
       "      <td>2022-11-01 00:31:04</td>\n",
       "      <td>2.0</td>\n",
       "      <td>1.0</td>\n",
       "      <td>1.0</td>\n",
       "      <td>N</td>\n",
       "      <td>158</td>\n",
       "      <td>113</td>\n",
       "      <td>1</td>\n",
       "      <td>6.0</td>\n",
       "      <td>3.0</td>\n",
       "      <td>0.5</td>\n",
       "      <td>0.00</td>\n",
       "      <td>0.0</td>\n",
       "      <td>0.3</td>\n",
       "      <td>9.80</td>\n",
       "      <td>2.5</td>\n",
       "      <td>0.0</td>\n",
       "    </tr>\n",
       "    <tr>\n",
       "      <th>4</th>\n",
       "      <td>1</td>\n",
       "      <td>2022-11-01 00:37:32</td>\n",
       "      <td>2022-11-01 00:42:23</td>\n",
       "      <td>2.0</td>\n",
       "      <td>0.8</td>\n",
       "      <td>1.0</td>\n",
       "      <td>N</td>\n",
       "      <td>249</td>\n",
       "      <td>158</td>\n",
       "      <td>2</td>\n",
       "      <td>5.5</td>\n",
       "      <td>3.0</td>\n",
       "      <td>0.5</td>\n",
       "      <td>0.00</td>\n",
       "      <td>0.0</td>\n",
       "      <td>0.3</td>\n",
       "      <td>9.30</td>\n",
       "      <td>2.5</td>\n",
       "      <td>0.0</td>\n",
       "    </tr>\n",
       "  </tbody>\n",
       "</table>\n",
       "</div>"
      ],
      "text/plain": [
       "   VendorID tpep_pickup_datetime tpep_dropoff_datetime  passenger_count  \\\n",
       "0         1  2022-11-01 00:51:22   2022-11-01 00:56:24              1.0   \n",
       "1         1  2022-11-01 00:39:43   2022-11-01 00:48:44              0.0   \n",
       "2         1  2022-11-01 00:55:01   2022-11-01 01:01:35              0.0   \n",
       "3         1  2022-11-01 00:24:49   2022-11-01 00:31:04              2.0   \n",
       "4         1  2022-11-01 00:37:32   2022-11-01 00:42:23              2.0   \n",
       "\n",
       "   trip_distance  RatecodeID store_and_fwd_flag  PULocationID  DOLocationID  \\\n",
       "0            0.6         1.0                  N           151           151   \n",
       "1            1.8         1.0                  N            90            79   \n",
       "2            2.0         1.0                  N           137           141   \n",
       "3            1.0         1.0                  N           158           113   \n",
       "4            0.8         1.0                  N           249           158   \n",
       "\n",
       "   payment_type  fare_amount  extra  mta_tax  tip_amount  tolls_amount  \\\n",
       "0             2          4.5    0.5      0.5        0.00           0.0   \n",
       "1             1          8.5    3.0      0.5        3.05           0.0   \n",
       "2             1          8.0    3.0      0.5        2.36           0.0   \n",
       "3             1          6.0    3.0      0.5        0.00           0.0   \n",
       "4             2          5.5    3.0      0.5        0.00           0.0   \n",
       "\n",
       "   improvement_surcharge  total_amount  congestion_surcharge  airport_fee  \n",
       "0                    0.3          5.80                   0.0          0.0  \n",
       "1                    0.3         15.35                   2.5          0.0  \n",
       "2                    0.3         14.16                   2.5          0.0  \n",
       "3                    0.3          9.80                   2.5          0.0  \n",
       "4                    0.3          9.30                   2.5          0.0  "
      ]
     },
     "execution_count": 3,
     "metadata": {},
     "output_type": "execute_result"
    }
   ],
   "source": [
    "trip_data_11.head()"
   ]
  },
  {
   "cell_type": "code",
   "execution_count": 4,
   "id": "a2173138",
   "metadata": {},
   "outputs": [
    {
     "data": {
      "text/plain": [
       "(3252717, 19)"
      ]
     },
     "execution_count": 4,
     "metadata": {},
     "output_type": "execute_result"
    }
   ],
   "source": [
    "trip_data_11.shape"
   ]
  },
  {
   "cell_type": "code",
   "execution_count": 5,
   "id": "6be10058",
   "metadata": {},
   "outputs": [
    {
     "data": {
      "text/plain": [
       "VendorID                      0\n",
       "tpep_pickup_datetime          0\n",
       "tpep_dropoff_datetime         0\n",
       "passenger_count          121958\n",
       "trip_distance                 0\n",
       "RatecodeID               121958\n",
       "store_and_fwd_flag       121958\n",
       "PULocationID                  0\n",
       "DOLocationID                  0\n",
       "payment_type                  0\n",
       "fare_amount                   0\n",
       "extra                         0\n",
       "mta_tax                       0\n",
       "tip_amount                    0\n",
       "tolls_amount                  0\n",
       "improvement_surcharge         0\n",
       "total_amount                  0\n",
       "congestion_surcharge     121958\n",
       "airport_fee              121958\n",
       "dtype: int64"
      ]
     },
     "execution_count": 5,
     "metadata": {},
     "output_type": "execute_result"
    }
   ],
   "source": [
    "trip_data_11.isna().sum()"
   ]
  },
  {
   "cell_type": "code",
   "execution_count": 6,
   "id": "73ba1ab4",
   "metadata": {},
   "outputs": [],
   "source": [
    "trip_data_11 = trip_data_11.dropna()"
   ]
  },
  {
   "cell_type": "code",
   "execution_count": 7,
   "id": "b5af9002",
   "metadata": {},
   "outputs": [
    {
     "data": {
      "text/plain": [
       "(3130759, 19)"
      ]
     },
     "execution_count": 7,
     "metadata": {},
     "output_type": "execute_result"
    }
   ],
   "source": [
    "trip_data_11.shape"
   ]
  },
  {
   "cell_type": "code",
   "execution_count": 8,
   "id": "66016140",
   "metadata": {},
   "outputs": [
    {
     "data": {
      "text/plain": [
       "265"
      ]
     },
     "execution_count": 8,
     "metadata": {},
     "output_type": "execute_result"
    }
   ],
   "source": [
    "trip_data_11['PULocationID'].max()"
   ]
  },
  {
   "cell_type": "code",
   "execution_count": 9,
   "id": "c79bf69e",
   "metadata": {},
   "outputs": [
    {
     "data": {
      "text/plain": [
       "1"
      ]
     },
     "execution_count": 9,
     "metadata": {},
     "output_type": "execute_result"
    }
   ],
   "source": [
    "trip_data_11['PULocationID'].min()"
   ]
  },
  {
   "cell_type": "code",
   "execution_count": 10,
   "id": "4370a2d1",
   "metadata": {},
   "outputs": [
    {
     "data": {
      "text/plain": [
       "VendorID                          int64\n",
       "tpep_pickup_datetime     datetime64[ns]\n",
       "tpep_dropoff_datetime    datetime64[ns]\n",
       "passenger_count                 float64\n",
       "trip_distance                   float64\n",
       "RatecodeID                      float64\n",
       "store_and_fwd_flag               object\n",
       "PULocationID                      int64\n",
       "DOLocationID                      int64\n",
       "payment_type                      int64\n",
       "fare_amount                     float64\n",
       "extra                           float64\n",
       "mta_tax                         float64\n",
       "tip_amount                      float64\n",
       "tolls_amount                    float64\n",
       "improvement_surcharge           float64\n",
       "total_amount                    float64\n",
       "congestion_surcharge            float64\n",
       "airport_fee                     float64\n",
       "dtype: object"
      ]
     },
     "execution_count": 10,
     "metadata": {},
     "output_type": "execute_result"
    }
   ],
   "source": [
    "trip_data_11.dtypes"
   ]
  },
  {
   "cell_type": "code",
   "execution_count": 15,
   "id": "08ae34a6",
   "metadata": {
    "scrolled": true
   },
   "outputs": [],
   "source": [
    "trip_data_11 = pd.merge(trip_data_11,data_loc , left_on = 'PULocationID', right_on = 'LocationID', how = 'inner')"
   ]
  },
  {
   "cell_type": "code",
   "execution_count": 16,
   "id": "afd8a26d",
   "metadata": {},
   "outputs": [],
   "source": [
    "trip_data_11 = trip_data_11.rename(columns= {'LocationID':'PULocationID_new','Borough':'PUBorough','Zone':'PUZone','service_zone':'PUservice_zone'})"
   ]
  },
  {
   "cell_type": "code",
   "execution_count": 17,
   "id": "24ae02ed",
   "metadata": {},
   "outputs": [],
   "source": [
    "trip_data_11 = pd.merge(trip_data_11,data_loc , left_on = 'DOLocationID', right_on = 'LocationID', how = 'inner')"
   ]
  },
  {
   "cell_type": "code",
   "execution_count": 18,
   "id": "8020aabd",
   "metadata": {},
   "outputs": [],
   "source": [
    "trip_data_11 = trip_data_11.rename(columns= {'LocationID':'DOLocationID_new','Borough':'DOBorough','Zone':'DOZone','service_zone':'DOservice_zone'})"
   ]
  },
  {
   "cell_type": "code",
   "execution_count": 19,
   "id": "b9443935",
   "metadata": {
    "scrolled": true
   },
   "outputs": [
    {
     "data": {
      "text/html": [
       "<div>\n",
       "<style scoped>\n",
       "    .dataframe tbody tr th:only-of-type {\n",
       "        vertical-align: middle;\n",
       "    }\n",
       "\n",
       "    .dataframe tbody tr th {\n",
       "        vertical-align: top;\n",
       "    }\n",
       "\n",
       "    .dataframe thead th {\n",
       "        text-align: right;\n",
       "    }\n",
       "</style>\n",
       "<table border=\"1\" class=\"dataframe\">\n",
       "  <thead>\n",
       "    <tr style=\"text-align: right;\">\n",
       "      <th></th>\n",
       "      <th>VendorID</th>\n",
       "      <th>tpep_pickup_datetime</th>\n",
       "      <th>tpep_dropoff_datetime</th>\n",
       "      <th>passenger_count</th>\n",
       "      <th>trip_distance</th>\n",
       "      <th>RatecodeID</th>\n",
       "      <th>store_and_fwd_flag</th>\n",
       "      <th>PULocationID</th>\n",
       "      <th>DOLocationID</th>\n",
       "      <th>payment_type</th>\n",
       "      <th>fare_amount</th>\n",
       "      <th>extra</th>\n",
       "      <th>mta_tax</th>\n",
       "      <th>tip_amount</th>\n",
       "      <th>tolls_amount</th>\n",
       "      <th>improvement_surcharge</th>\n",
       "      <th>total_amount</th>\n",
       "      <th>congestion_surcharge</th>\n",
       "      <th>airport_fee</th>\n",
       "      <th>PULocationID_new</th>\n",
       "      <th>PUBorough</th>\n",
       "      <th>PUZone</th>\n",
       "      <th>PUservice_zone</th>\n",
       "      <th>DOLocationID_new</th>\n",
       "      <th>DOBorough</th>\n",
       "      <th>DOZone</th>\n",
       "      <th>DOservice_zone</th>\n",
       "    </tr>\n",
       "  </thead>\n",
       "  <tbody>\n",
       "    <tr>\n",
       "      <th>0</th>\n",
       "      <td>1</td>\n",
       "      <td>2022-11-01 00:51:22</td>\n",
       "      <td>2022-11-01 00:56:24</td>\n",
       "      <td>1.0</td>\n",
       "      <td>0.60</td>\n",
       "      <td>1.0</td>\n",
       "      <td>N</td>\n",
       "      <td>151</td>\n",
       "      <td>151</td>\n",
       "      <td>2</td>\n",
       "      <td>4.5</td>\n",
       "      <td>0.5</td>\n",
       "      <td>0.5</td>\n",
       "      <td>0.00</td>\n",
       "      <td>0.00</td>\n",
       "      <td>0.3</td>\n",
       "      <td>5.80</td>\n",
       "      <td>0.0</td>\n",
       "      <td>0.0</td>\n",
       "      <td>151</td>\n",
       "      <td>Manhattan</td>\n",
       "      <td>Manhattan Valley</td>\n",
       "      <td>Yellow Zone</td>\n",
       "      <td>151</td>\n",
       "      <td>Manhattan</td>\n",
       "      <td>Manhattan Valley</td>\n",
       "      <td>Yellow Zone</td>\n",
       "    </tr>\n",
       "    <tr>\n",
       "      <th>1</th>\n",
       "      <td>2</td>\n",
       "      <td>2022-11-01 00:41:59</td>\n",
       "      <td>2022-11-01 00:46:35</td>\n",
       "      <td>1.0</td>\n",
       "      <td>0.60</td>\n",
       "      <td>1.0</td>\n",
       "      <td>N</td>\n",
       "      <td>151</td>\n",
       "      <td>151</td>\n",
       "      <td>2</td>\n",
       "      <td>5.0</td>\n",
       "      <td>0.5</td>\n",
       "      <td>0.5</td>\n",
       "      <td>0.00</td>\n",
       "      <td>0.00</td>\n",
       "      <td>0.3</td>\n",
       "      <td>6.30</td>\n",
       "      <td>0.0</td>\n",
       "      <td>0.0</td>\n",
       "      <td>151</td>\n",
       "      <td>Manhattan</td>\n",
       "      <td>Manhattan Valley</td>\n",
       "      <td>Yellow Zone</td>\n",
       "      <td>151</td>\n",
       "      <td>Manhattan</td>\n",
       "      <td>Manhattan Valley</td>\n",
       "      <td>Yellow Zone</td>\n",
       "    </tr>\n",
       "    <tr>\n",
       "      <th>2</th>\n",
       "      <td>2</td>\n",
       "      <td>2022-11-01 01:12:52</td>\n",
       "      <td>2022-11-01 01:14:03</td>\n",
       "      <td>1.0</td>\n",
       "      <td>0.39</td>\n",
       "      <td>2.0</td>\n",
       "      <td>N</td>\n",
       "      <td>151</td>\n",
       "      <td>151</td>\n",
       "      <td>1</td>\n",
       "      <td>52.0</td>\n",
       "      <td>0.0</td>\n",
       "      <td>0.5</td>\n",
       "      <td>11.87</td>\n",
       "      <td>6.55</td>\n",
       "      <td>0.3</td>\n",
       "      <td>71.22</td>\n",
       "      <td>0.0</td>\n",
       "      <td>0.0</td>\n",
       "      <td>151</td>\n",
       "      <td>Manhattan</td>\n",
       "      <td>Manhattan Valley</td>\n",
       "      <td>Yellow Zone</td>\n",
       "      <td>151</td>\n",
       "      <td>Manhattan</td>\n",
       "      <td>Manhattan Valley</td>\n",
       "      <td>Yellow Zone</td>\n",
       "    </tr>\n",
       "    <tr>\n",
       "      <th>3</th>\n",
       "      <td>1</td>\n",
       "      <td>2022-11-01 06:59:18</td>\n",
       "      <td>2022-11-01 07:03:39</td>\n",
       "      <td>1.0</td>\n",
       "      <td>0.60</td>\n",
       "      <td>1.0</td>\n",
       "      <td>N</td>\n",
       "      <td>151</td>\n",
       "      <td>151</td>\n",
       "      <td>2</td>\n",
       "      <td>4.5</td>\n",
       "      <td>0.0</td>\n",
       "      <td>0.5</td>\n",
       "      <td>0.00</td>\n",
       "      <td>0.00</td>\n",
       "      <td>0.3</td>\n",
       "      <td>5.30</td>\n",
       "      <td>0.0</td>\n",
       "      <td>0.0</td>\n",
       "      <td>151</td>\n",
       "      <td>Manhattan</td>\n",
       "      <td>Manhattan Valley</td>\n",
       "      <td>Yellow Zone</td>\n",
       "      <td>151</td>\n",
       "      <td>Manhattan</td>\n",
       "      <td>Manhattan Valley</td>\n",
       "      <td>Yellow Zone</td>\n",
       "    </tr>\n",
       "    <tr>\n",
       "      <th>4</th>\n",
       "      <td>2</td>\n",
       "      <td>2022-11-01 06:37:53</td>\n",
       "      <td>2022-11-01 06:40:53</td>\n",
       "      <td>1.0</td>\n",
       "      <td>0.61</td>\n",
       "      <td>1.0</td>\n",
       "      <td>N</td>\n",
       "      <td>151</td>\n",
       "      <td>151</td>\n",
       "      <td>2</td>\n",
       "      <td>4.0</td>\n",
       "      <td>0.0</td>\n",
       "      <td>0.5</td>\n",
       "      <td>0.00</td>\n",
       "      <td>0.00</td>\n",
       "      <td>0.3</td>\n",
       "      <td>4.80</td>\n",
       "      <td>0.0</td>\n",
       "      <td>0.0</td>\n",
       "      <td>151</td>\n",
       "      <td>Manhattan</td>\n",
       "      <td>Manhattan Valley</td>\n",
       "      <td>Yellow Zone</td>\n",
       "      <td>151</td>\n",
       "      <td>Manhattan</td>\n",
       "      <td>Manhattan Valley</td>\n",
       "      <td>Yellow Zone</td>\n",
       "    </tr>\n",
       "  </tbody>\n",
       "</table>\n",
       "</div>"
      ],
      "text/plain": [
       "   VendorID tpep_pickup_datetime tpep_dropoff_datetime  passenger_count  \\\n",
       "0         1  2022-11-01 00:51:22   2022-11-01 00:56:24              1.0   \n",
       "1         2  2022-11-01 00:41:59   2022-11-01 00:46:35              1.0   \n",
       "2         2  2022-11-01 01:12:52   2022-11-01 01:14:03              1.0   \n",
       "3         1  2022-11-01 06:59:18   2022-11-01 07:03:39              1.0   \n",
       "4         2  2022-11-01 06:37:53   2022-11-01 06:40:53              1.0   \n",
       "\n",
       "   trip_distance  RatecodeID store_and_fwd_flag  PULocationID  DOLocationID  \\\n",
       "0           0.60         1.0                  N           151           151   \n",
       "1           0.60         1.0                  N           151           151   \n",
       "2           0.39         2.0                  N           151           151   \n",
       "3           0.60         1.0                  N           151           151   \n",
       "4           0.61         1.0                  N           151           151   \n",
       "\n",
       "   payment_type  fare_amount  extra  mta_tax  tip_amount  tolls_amount  \\\n",
       "0             2          4.5    0.5      0.5        0.00          0.00   \n",
       "1             2          5.0    0.5      0.5        0.00          0.00   \n",
       "2             1         52.0    0.0      0.5       11.87          6.55   \n",
       "3             2          4.5    0.0      0.5        0.00          0.00   \n",
       "4             2          4.0    0.0      0.5        0.00          0.00   \n",
       "\n",
       "   improvement_surcharge  total_amount  congestion_surcharge  airport_fee  \\\n",
       "0                    0.3          5.80                   0.0          0.0   \n",
       "1                    0.3          6.30                   0.0          0.0   \n",
       "2                    0.3         71.22                   0.0          0.0   \n",
       "3                    0.3          5.30                   0.0          0.0   \n",
       "4                    0.3          4.80                   0.0          0.0   \n",
       "\n",
       "   PULocationID_new  PUBorough            PUZone PUservice_zone  \\\n",
       "0               151  Manhattan  Manhattan Valley    Yellow Zone   \n",
       "1               151  Manhattan  Manhattan Valley    Yellow Zone   \n",
       "2               151  Manhattan  Manhattan Valley    Yellow Zone   \n",
       "3               151  Manhattan  Manhattan Valley    Yellow Zone   \n",
       "4               151  Manhattan  Manhattan Valley    Yellow Zone   \n",
       "\n",
       "   DOLocationID_new  DOBorough            DOZone DOservice_zone  \n",
       "0               151  Manhattan  Manhattan Valley    Yellow Zone  \n",
       "1               151  Manhattan  Manhattan Valley    Yellow Zone  \n",
       "2               151  Manhattan  Manhattan Valley    Yellow Zone  \n",
       "3               151  Manhattan  Manhattan Valley    Yellow Zone  \n",
       "4               151  Manhattan  Manhattan Valley    Yellow Zone  "
      ]
     },
     "execution_count": 19,
     "metadata": {},
     "output_type": "execute_result"
    }
   ],
   "source": [
    "trip_data_11.head()"
   ]
  },
  {
   "cell_type": "code",
   "execution_count": 20,
   "id": "ed1f3202",
   "metadata": {},
   "outputs": [
    {
     "data": {
      "text/plain": [
       "Index(['VendorID', 'tpep_pickup_datetime', 'tpep_dropoff_datetime',\n",
       "       'passenger_count', 'trip_distance', 'RatecodeID', 'store_and_fwd_flag',\n",
       "       'PULocationID', 'DOLocationID', 'payment_type', 'fare_amount', 'extra',\n",
       "       'mta_tax', 'tip_amount', 'tolls_amount', 'improvement_surcharge',\n",
       "       'total_amount', 'congestion_surcharge', 'airport_fee',\n",
       "       'PULocationID_new', 'PUBorough', 'PUZone', 'PUservice_zone',\n",
       "       'DOLocationID_new', 'DOBorough', 'DOZone', 'DOservice_zone'],\n",
       "      dtype='object')"
      ]
     },
     "execution_count": 20,
     "metadata": {},
     "output_type": "execute_result"
    }
   ],
   "source": [
    "trip_data_11.columns"
   ]
  },
  {
   "cell_type": "code",
   "execution_count": 13,
   "id": "3ec68d0a",
   "metadata": {},
   "outputs": [],
   "source": [
    "data_loc = pd.read_csv(\"taxi+_zone_lookup.csv\")"
   ]
  },
  {
   "cell_type": "code",
   "execution_count": 14,
   "id": "546b04ed",
   "metadata": {},
   "outputs": [
    {
     "data": {
      "text/html": [
       "<div>\n",
       "<style scoped>\n",
       "    .dataframe tbody tr th:only-of-type {\n",
       "        vertical-align: middle;\n",
       "    }\n",
       "\n",
       "    .dataframe tbody tr th {\n",
       "        vertical-align: top;\n",
       "    }\n",
       "\n",
       "    .dataframe thead th {\n",
       "        text-align: right;\n",
       "    }\n",
       "</style>\n",
       "<table border=\"1\" class=\"dataframe\">\n",
       "  <thead>\n",
       "    <tr style=\"text-align: right;\">\n",
       "      <th></th>\n",
       "      <th>LocationID</th>\n",
       "      <th>Borough</th>\n",
       "      <th>Zone</th>\n",
       "      <th>service_zone</th>\n",
       "    </tr>\n",
       "  </thead>\n",
       "  <tbody>\n",
       "    <tr>\n",
       "      <th>237</th>\n",
       "      <td>238</td>\n",
       "      <td>Manhattan</td>\n",
       "      <td>Upper West Side North</td>\n",
       "      <td>Yellow Zone</td>\n",
       "    </tr>\n",
       "  </tbody>\n",
       "</table>\n",
       "</div>"
      ],
      "text/plain": [
       "     LocationID    Borough                   Zone service_zone\n",
       "237         238  Manhattan  Upper West Side North  Yellow Zone"
      ]
     },
     "execution_count": 14,
     "metadata": {},
     "output_type": "execute_result"
    }
   ],
   "source": [
    "data_loc[data_loc['LocationID']==238]"
   ]
  },
  {
   "cell_type": "code",
   "execution_count": 14,
   "id": "0d37229c",
   "metadata": {},
   "outputs": [
    {
     "data": {
      "text/plain": [
       "265"
      ]
     },
     "execution_count": 14,
     "metadata": {},
     "output_type": "execute_result"
    }
   ],
   "source": [
    "data_loc['LocationID'].max()"
   ]
  },
  {
   "cell_type": "code",
   "execution_count": 15,
   "id": "c43452df",
   "metadata": {},
   "outputs": [
    {
     "data": {
      "text/plain": [
       "LocationID       int64\n",
       "Borough         object\n",
       "Zone            object\n",
       "service_zone    object\n",
       "dtype: object"
      ]
     },
     "execution_count": 15,
     "metadata": {},
     "output_type": "execute_result"
    }
   ],
   "source": [
    "data_loc.dtypes"
   ]
  },
  {
   "cell_type": "code",
   "execution_count": 21,
   "id": "d91d60f3",
   "metadata": {},
   "outputs": [],
   "source": [
    "trip_data_11['route_borough'] = trip_data_11['PUBorough'] + '-' + trip_data_11['DOBorough']\n",
    "trip_data_11['route_zone'] = trip_data_11['PUZone'] + '-' + trip_data_11['DOZone']\n",
    "trip_data_11['route_service_zone'] = trip_data_11['PUservice_zone'] + '-' + trip_data_11['DOservice_zone']"
   ]
  },
  {
   "cell_type": "code",
   "execution_count": 22,
   "id": "5325d950",
   "metadata": {
    "scrolled": false
   },
   "outputs": [
    {
     "data": {
      "text/plain": [
       "array(['Yellow Zone-Yellow Zone', 'Airports-Yellow Zone',\n",
       "       'Boro Zone-Yellow Zone', nan, 'Yellow Zone-Boro Zone',\n",
       "       'Airports-Boro Zone', 'Boro Zone-Boro Zone', 'EWR-Yellow Zone',\n",
       "       'Yellow Zone-Airports', 'Airports-Airports', 'Boro Zone-Airports',\n",
       "       'EWR-Airports', 'Yellow Zone-EWR', 'Airports-EWR', 'Boro Zone-EWR',\n",
       "       'EWR-EWR'], dtype=object)"
      ]
     },
     "execution_count": 22,
     "metadata": {},
     "output_type": "execute_result"
    }
   ],
   "source": [
    "trip_data_11['route_service_zone'].unique()"
   ]
  },
  {
   "cell_type": "markdown",
   "id": "0d4313ff",
   "metadata": {},
   "source": [
    "### high volume for hire vehicle datam"
   ]
  },
  {
   "cell_type": "code",
   "execution_count": 65,
   "id": "e6cda555",
   "metadata": {},
   "outputs": [],
   "source": [
    "hfhv_data = pd.read_parquet(\"fhvhv_tripdata_2022-11.parquet\")"
   ]
  },
  {
   "cell_type": "code",
   "execution_count": 66,
   "id": "ce230394",
   "metadata": {},
   "outputs": [
    {
     "data": {
      "text/html": [
       "<div>\n",
       "<style scoped>\n",
       "    .dataframe tbody tr th:only-of-type {\n",
       "        vertical-align: middle;\n",
       "    }\n",
       "\n",
       "    .dataframe tbody tr th {\n",
       "        vertical-align: top;\n",
       "    }\n",
       "\n",
       "    .dataframe thead th {\n",
       "        text-align: right;\n",
       "    }\n",
       "</style>\n",
       "<table border=\"1\" class=\"dataframe\">\n",
       "  <thead>\n",
       "    <tr style=\"text-align: right;\">\n",
       "      <th></th>\n",
       "      <th>hvfhs_license_num</th>\n",
       "      <th>dispatching_base_num</th>\n",
       "      <th>originating_base_num</th>\n",
       "      <th>request_datetime</th>\n",
       "      <th>on_scene_datetime</th>\n",
       "      <th>pickup_datetime</th>\n",
       "      <th>dropoff_datetime</th>\n",
       "      <th>PULocationID</th>\n",
       "      <th>DOLocationID</th>\n",
       "      <th>trip_miles</th>\n",
       "      <th>trip_time</th>\n",
       "      <th>base_passenger_fare</th>\n",
       "      <th>tolls</th>\n",
       "      <th>bcf</th>\n",
       "      <th>sales_tax</th>\n",
       "      <th>congestion_surcharge</th>\n",
       "      <th>airport_fee</th>\n",
       "      <th>tips</th>\n",
       "      <th>driver_pay</th>\n",
       "      <th>shared_request_flag</th>\n",
       "      <th>shared_match_flag</th>\n",
       "      <th>access_a_ride_flag</th>\n",
       "      <th>wav_request_flag</th>\n",
       "      <th>wav_match_flag</th>\n",
       "    </tr>\n",
       "  </thead>\n",
       "  <tbody>\n",
       "    <tr>\n",
       "      <th>0</th>\n",
       "      <td>HV0003</td>\n",
       "      <td>B03404</td>\n",
       "      <td>B03404</td>\n",
       "      <td>2022-11-01 00:04:09</td>\n",
       "      <td>2022-11-01 00:10:11</td>\n",
       "      <td>2022-11-01 00:10:31</td>\n",
       "      <td>2022-11-01 00:17:28</td>\n",
       "      <td>61</td>\n",
       "      <td>61</td>\n",
       "      <td>1.040</td>\n",
       "      <td>417</td>\n",
       "      <td>7.91</td>\n",
       "      <td>0.0</td>\n",
       "      <td>0.24</td>\n",
       "      <td>0.70</td>\n",
       "      <td>0.00</td>\n",
       "      <td>0.0</td>\n",
       "      <td>0.0</td>\n",
       "      <td>5.40</td>\n",
       "      <td>N</td>\n",
       "      <td>N</td>\n",
       "      <td></td>\n",
       "      <td>N</td>\n",
       "      <td>N</td>\n",
       "    </tr>\n",
       "    <tr>\n",
       "      <th>1</th>\n",
       "      <td>HV0003</td>\n",
       "      <td>B03404</td>\n",
       "      <td>B03404</td>\n",
       "      <td>2022-11-01 00:42:26</td>\n",
       "      <td>2022-11-01 00:45:33</td>\n",
       "      <td>2022-11-01 00:46:33</td>\n",
       "      <td>2022-11-01 00:58:18</td>\n",
       "      <td>209</td>\n",
       "      <td>79</td>\n",
       "      <td>2.070</td>\n",
       "      <td>705</td>\n",
       "      <td>14.48</td>\n",
       "      <td>0.0</td>\n",
       "      <td>0.43</td>\n",
       "      <td>1.29</td>\n",
       "      <td>2.75</td>\n",
       "      <td>0.0</td>\n",
       "      <td>0.0</td>\n",
       "      <td>11.13</td>\n",
       "      <td>N</td>\n",
       "      <td>N</td>\n",
       "      <td></td>\n",
       "      <td>N</td>\n",
       "      <td>N</td>\n",
       "    </tr>\n",
       "    <tr>\n",
       "      <th>2</th>\n",
       "      <td>HV0003</td>\n",
       "      <td>B03404</td>\n",
       "      <td>B03404</td>\n",
       "      <td>2022-11-01 00:11:53</td>\n",
       "      <td>2022-11-01 00:17:15</td>\n",
       "      <td>2022-11-01 00:19:16</td>\n",
       "      <td>2022-11-01 00:46:19</td>\n",
       "      <td>181</td>\n",
       "      <td>170</td>\n",
       "      <td>8.270</td>\n",
       "      <td>1623</td>\n",
       "      <td>27.37</td>\n",
       "      <td>0.0</td>\n",
       "      <td>0.82</td>\n",
       "      <td>2.43</td>\n",
       "      <td>2.75</td>\n",
       "      <td>0.0</td>\n",
       "      <td>0.0</td>\n",
       "      <td>24.14</td>\n",
       "      <td>N</td>\n",
       "      <td>N</td>\n",
       "      <td></td>\n",
       "      <td>N</td>\n",
       "      <td>N</td>\n",
       "    </tr>\n",
       "    <tr>\n",
       "      <th>3</th>\n",
       "      <td>HV0003</td>\n",
       "      <td>B03404</td>\n",
       "      <td>B03404</td>\n",
       "      <td>2022-11-01 00:45:30</td>\n",
       "      <td>2022-11-01 00:49:39</td>\n",
       "      <td>2022-11-01 00:50:18</td>\n",
       "      <td>2022-11-01 01:08:10</td>\n",
       "      <td>107</td>\n",
       "      <td>80</td>\n",
       "      <td>5.020</td>\n",
       "      <td>1072</td>\n",
       "      <td>26.74</td>\n",
       "      <td>0.0</td>\n",
       "      <td>0.80</td>\n",
       "      <td>2.37</td>\n",
       "      <td>2.75</td>\n",
       "      <td>0.0</td>\n",
       "      <td>0.0</td>\n",
       "      <td>17.00</td>\n",
       "      <td>N</td>\n",
       "      <td>N</td>\n",
       "      <td></td>\n",
       "      <td>N</td>\n",
       "      <td>N</td>\n",
       "    </tr>\n",
       "    <tr>\n",
       "      <th>4</th>\n",
       "      <td>HV0005</td>\n",
       "      <td>B03406</td>\n",
       "      <td>None</td>\n",
       "      <td>2022-10-31 23:56:33</td>\n",
       "      <td>NaT</td>\n",
       "      <td>2022-11-01 00:01:41</td>\n",
       "      <td>2022-11-01 00:20:33</td>\n",
       "      <td>41</td>\n",
       "      <td>241</td>\n",
       "      <td>6.322</td>\n",
       "      <td>1132</td>\n",
       "      <td>22.34</td>\n",
       "      <td>0.0</td>\n",
       "      <td>0.67</td>\n",
       "      <td>1.98</td>\n",
       "      <td>0.00</td>\n",
       "      <td>0.0</td>\n",
       "      <td>0.0</td>\n",
       "      <td>17.40</td>\n",
       "      <td>N</td>\n",
       "      <td>N</td>\n",
       "      <td>N</td>\n",
       "      <td>N</td>\n",
       "      <td>N</td>\n",
       "    </tr>\n",
       "  </tbody>\n",
       "</table>\n",
       "</div>"
      ],
      "text/plain": [
       "  hvfhs_license_num dispatching_base_num originating_base_num  \\\n",
       "0            HV0003               B03404               B03404   \n",
       "1            HV0003               B03404               B03404   \n",
       "2            HV0003               B03404               B03404   \n",
       "3            HV0003               B03404               B03404   \n",
       "4            HV0005               B03406                 None   \n",
       "\n",
       "     request_datetime   on_scene_datetime     pickup_datetime  \\\n",
       "0 2022-11-01 00:04:09 2022-11-01 00:10:11 2022-11-01 00:10:31   \n",
       "1 2022-11-01 00:42:26 2022-11-01 00:45:33 2022-11-01 00:46:33   \n",
       "2 2022-11-01 00:11:53 2022-11-01 00:17:15 2022-11-01 00:19:16   \n",
       "3 2022-11-01 00:45:30 2022-11-01 00:49:39 2022-11-01 00:50:18   \n",
       "4 2022-10-31 23:56:33                 NaT 2022-11-01 00:01:41   \n",
       "\n",
       "     dropoff_datetime  PULocationID  DOLocationID  trip_miles  trip_time  \\\n",
       "0 2022-11-01 00:17:28            61            61       1.040        417   \n",
       "1 2022-11-01 00:58:18           209            79       2.070        705   \n",
       "2 2022-11-01 00:46:19           181           170       8.270       1623   \n",
       "3 2022-11-01 01:08:10           107            80       5.020       1072   \n",
       "4 2022-11-01 00:20:33            41           241       6.322       1132   \n",
       "\n",
       "   base_passenger_fare  tolls   bcf  sales_tax  congestion_surcharge  \\\n",
       "0                 7.91    0.0  0.24       0.70                  0.00   \n",
       "1                14.48    0.0  0.43       1.29                  2.75   \n",
       "2                27.37    0.0  0.82       2.43                  2.75   \n",
       "3                26.74    0.0  0.80       2.37                  2.75   \n",
       "4                22.34    0.0  0.67       1.98                  0.00   \n",
       "\n",
       "   airport_fee  tips  driver_pay shared_request_flag shared_match_flag  \\\n",
       "0          0.0   0.0        5.40                   N                 N   \n",
       "1          0.0   0.0       11.13                   N                 N   \n",
       "2          0.0   0.0       24.14                   N                 N   \n",
       "3          0.0   0.0       17.00                   N                 N   \n",
       "4          0.0   0.0       17.40                   N                 N   \n",
       "\n",
       "  access_a_ride_flag wav_request_flag wav_match_flag  \n",
       "0                                   N              N  \n",
       "1                                   N              N  \n",
       "2                                   N              N  \n",
       "3                                   N              N  \n",
       "4                  N                N              N  "
      ]
     },
     "execution_count": 66,
     "metadata": {},
     "output_type": "execute_result"
    }
   ],
   "source": [
    "hfhv_data.head()"
   ]
  },
  {
   "cell_type": "code",
   "execution_count": 67,
   "id": "75523d60",
   "metadata": {},
   "outputs": [
    {
     "data": {
      "text/plain": [
       "hvfhs_license_num\n",
       "HV0003    17\n",
       "HV0005     1\n",
       "Name: dispatching_base_num, dtype: int64"
      ]
     },
     "execution_count": 67,
     "metadata": {},
     "output_type": "execute_result"
    }
   ],
   "source": [
    "hfhv_data.groupby('hvfhs_license_num')['dispatching_base_num'].nunique()"
   ]
  },
  {
   "cell_type": "code",
   "execution_count": 68,
   "id": "fb9b9147",
   "metadata": {},
   "outputs": [],
   "source": [
    "hfhv_data_uber = hfhv_data[hfhv_data['hvfhs_license_num']=='HV0003']"
   ]
  },
  {
   "cell_type": "code",
   "execution_count": 69,
   "id": "9b64153c",
   "metadata": {},
   "outputs": [
    {
     "data": {
      "text/plain": [
       "array(['B03404', 'B02764', 'B02872', 'B02887', 'B02869', 'B02870',\n",
       "       'B02835', 'B02889', 'B02765', 'B02512', 'B02864', 'B02880',\n",
       "       'B02876', 'B02888', 'B02877', 'B02871', 'B02879'], dtype=object)"
      ]
     },
     "execution_count": 69,
     "metadata": {},
     "output_type": "execute_result"
    }
   ],
   "source": [
    "hfhv_data_uber['dispatching_base_num'].unique()"
   ]
  },
  {
   "cell_type": "code",
   "execution_count": null,
   "id": "8b049001",
   "metadata": {},
   "outputs": [],
   "source": []
  },
  {
   "cell_type": "code",
   "execution_count": null,
   "id": "48f88aa3",
   "metadata": {},
   "outputs": [],
   "source": []
  },
  {
   "cell_type": "code",
   "execution_count": null,
   "id": "0a399e39",
   "metadata": {},
   "outputs": [],
   "source": []
  },
  {
   "cell_type": "code",
   "execution_count": 25,
   "id": "8da2ec58",
   "metadata": {},
   "outputs": [
    {
     "data": {
      "text/plain": [
       "(18085896, 24)"
      ]
     },
     "execution_count": 25,
     "metadata": {},
     "output_type": "execute_result"
    }
   ],
   "source": [
    "fhv_data.shape"
   ]
  },
  {
   "cell_type": "code",
   "execution_count": 26,
   "id": "194c38da",
   "metadata": {},
   "outputs": [
    {
     "data": {
      "text/plain": [
       "hvfhs_license_num             0\n",
       "dispatching_base_num          0\n",
       "originating_base_num    5111093\n",
       "request_datetime              0\n",
       "on_scene_datetime       5111094\n",
       "pickup_datetime               0\n",
       "dropoff_datetime              0\n",
       "PULocationID                  0\n",
       "DOLocationID                  0\n",
       "trip_miles                    0\n",
       "trip_time                     0\n",
       "base_passenger_fare           0\n",
       "tolls                         0\n",
       "bcf                           0\n",
       "sales_tax                     0\n",
       "congestion_surcharge          0\n",
       "airport_fee                   0\n",
       "tips                          0\n",
       "driver_pay                    0\n",
       "shared_request_flag           0\n",
       "shared_match_flag             0\n",
       "access_a_ride_flag            0\n",
       "wav_request_flag              0\n",
       "wav_match_flag                0\n",
       "dtype: int64"
      ]
     },
     "execution_count": 26,
     "metadata": {},
     "output_type": "execute_result"
    }
   ],
   "source": [
    "fhv_data.isna().sum()"
   ]
  },
  {
   "cell_type": "code",
   "execution_count": 27,
   "id": "449498c8",
   "metadata": {},
   "outputs": [],
   "source": [
    "fhv_data = fhv_data.dropna()"
   ]
  },
  {
   "cell_type": "code",
   "execution_count": 28,
   "id": "b33d74c4",
   "metadata": {},
   "outputs": [
    {
     "data": {
      "text/plain": [
       "(12974802, 24)"
      ]
     },
     "execution_count": 28,
     "metadata": {},
     "output_type": "execute_result"
    }
   ],
   "source": [
    "fhv_data.shape"
   ]
  },
  {
   "cell_type": "code",
   "execution_count": 29,
   "id": "332cbb3c",
   "metadata": {},
   "outputs": [
    {
     "data": {
      "text/plain": [
       "265"
      ]
     },
     "execution_count": 29,
     "metadata": {},
     "output_type": "execute_result"
    }
   ],
   "source": [
    "fhv_data['PULocationID'].max()"
   ]
  },
  {
   "cell_type": "code",
   "execution_count": 30,
   "id": "fa27cd8e",
   "metadata": {},
   "outputs": [
    {
     "data": {
      "text/plain": [
       "1"
      ]
     },
     "execution_count": 30,
     "metadata": {},
     "output_type": "execute_result"
    }
   ],
   "source": [
    "fhv_data['PULocationID'].min()"
   ]
  },
  {
   "cell_type": "code",
   "execution_count": 31,
   "id": "70684f21",
   "metadata": {},
   "outputs": [
    {
     "data": {
      "text/plain": [
       "hvfhs_license_num               object\n",
       "dispatching_base_num            object\n",
       "originating_base_num            object\n",
       "request_datetime        datetime64[ns]\n",
       "on_scene_datetime       datetime64[ns]\n",
       "pickup_datetime         datetime64[ns]\n",
       "dropoff_datetime        datetime64[ns]\n",
       "PULocationID                     int64\n",
       "DOLocationID                     int64\n",
       "trip_miles                     float64\n",
       "trip_time                        int64\n",
       "base_passenger_fare            float64\n",
       "tolls                          float64\n",
       "bcf                            float64\n",
       "sales_tax                      float64\n",
       "congestion_surcharge           float64\n",
       "airport_fee                    float64\n",
       "tips                           float64\n",
       "driver_pay                     float64\n",
       "shared_request_flag             object\n",
       "shared_match_flag               object\n",
       "access_a_ride_flag              object\n",
       "wav_request_flag                object\n",
       "wav_match_flag                  object\n",
       "dtype: object"
      ]
     },
     "execution_count": 31,
     "metadata": {},
     "output_type": "execute_result"
    }
   ],
   "source": [
    "fhv_data.dtypes"
   ]
  },
  {
   "cell_type": "code",
   "execution_count": 32,
   "id": "2b3c59d5",
   "metadata": {
    "scrolled": true
   },
   "outputs": [],
   "source": [
    "fhv_data = pd.merge(fhv_data,data_loc , left_on = 'PULocationID', right_on = 'LocationID', how = 'inner')"
   ]
  },
  {
   "cell_type": "code",
   "execution_count": 33,
   "id": "25db8a5d",
   "metadata": {},
   "outputs": [],
   "source": [
    "fhv_data = fhv_data.rename(columns= {'LocationID':'PULocationID_new','Borough':'PUBorough','Zone':'PUZone','service_zone':'PUservice_zone'})"
   ]
  },
  {
   "cell_type": "code",
   "execution_count": 34,
   "id": "3ddb383b",
   "metadata": {},
   "outputs": [],
   "source": [
    "fhv_data = pd.merge(fhv_data,data_loc , left_on = 'DOLocationID', right_on = 'LocationID', how = 'inner')"
   ]
  },
  {
   "cell_type": "code",
   "execution_count": 35,
   "id": "6d891a24",
   "metadata": {},
   "outputs": [],
   "source": [
    "fhv_data = fhv_data.rename(columns= {'LocationID':'DOLocationID_new','Borough':'DOBorough','Zone':'DOZone','service_zone':'DOservice_zone'})"
   ]
  },
  {
   "cell_type": "code",
   "execution_count": 36,
   "id": "76304a4d",
   "metadata": {
    "scrolled": true
   },
   "outputs": [
    {
     "data": {
      "text/html": [
       "<div>\n",
       "<style scoped>\n",
       "    .dataframe tbody tr th:only-of-type {\n",
       "        vertical-align: middle;\n",
       "    }\n",
       "\n",
       "    .dataframe tbody tr th {\n",
       "        vertical-align: top;\n",
       "    }\n",
       "\n",
       "    .dataframe thead th {\n",
       "        text-align: right;\n",
       "    }\n",
       "</style>\n",
       "<table border=\"1\" class=\"dataframe\">\n",
       "  <thead>\n",
       "    <tr style=\"text-align: right;\">\n",
       "      <th></th>\n",
       "      <th>hvfhs_license_num</th>\n",
       "      <th>dispatching_base_num</th>\n",
       "      <th>originating_base_num</th>\n",
       "      <th>request_datetime</th>\n",
       "      <th>on_scene_datetime</th>\n",
       "      <th>pickup_datetime</th>\n",
       "      <th>dropoff_datetime</th>\n",
       "      <th>PULocationID</th>\n",
       "      <th>DOLocationID</th>\n",
       "      <th>trip_miles</th>\n",
       "      <th>trip_time</th>\n",
       "      <th>base_passenger_fare</th>\n",
       "      <th>tolls</th>\n",
       "      <th>bcf</th>\n",
       "      <th>sales_tax</th>\n",
       "      <th>congestion_surcharge</th>\n",
       "      <th>airport_fee</th>\n",
       "      <th>tips</th>\n",
       "      <th>driver_pay</th>\n",
       "      <th>shared_request_flag</th>\n",
       "      <th>shared_match_flag</th>\n",
       "      <th>access_a_ride_flag</th>\n",
       "      <th>wav_request_flag</th>\n",
       "      <th>wav_match_flag</th>\n",
       "      <th>PULocationID_new</th>\n",
       "      <th>PUBorough</th>\n",
       "      <th>PUZone</th>\n",
       "      <th>PUservice_zone</th>\n",
       "      <th>DOLocationID_new</th>\n",
       "      <th>DOBorough</th>\n",
       "      <th>DOZone</th>\n",
       "      <th>DOservice_zone</th>\n",
       "    </tr>\n",
       "  </thead>\n",
       "  <tbody>\n",
       "    <tr>\n",
       "      <th>0</th>\n",
       "      <td>HV0003</td>\n",
       "      <td>B03404</td>\n",
       "      <td>B03404</td>\n",
       "      <td>2022-11-01 00:04:09</td>\n",
       "      <td>2022-11-01 00:10:11</td>\n",
       "      <td>2022-11-01 00:10:31</td>\n",
       "      <td>2022-11-01 00:17:28</td>\n",
       "      <td>61</td>\n",
       "      <td>61</td>\n",
       "      <td>1.04</td>\n",
       "      <td>417</td>\n",
       "      <td>7.91</td>\n",
       "      <td>0.0</td>\n",
       "      <td>0.24</td>\n",
       "      <td>0.70</td>\n",
       "      <td>0.0</td>\n",
       "      <td>0.0</td>\n",
       "      <td>0.0</td>\n",
       "      <td>5.40</td>\n",
       "      <td>N</td>\n",
       "      <td>N</td>\n",
       "      <td></td>\n",
       "      <td>N</td>\n",
       "      <td>N</td>\n",
       "      <td>61</td>\n",
       "      <td>Brooklyn</td>\n",
       "      <td>Crown Heights North</td>\n",
       "      <td>Boro Zone</td>\n",
       "      <td>61</td>\n",
       "      <td>Brooklyn</td>\n",
       "      <td>Crown Heights North</td>\n",
       "      <td>Boro Zone</td>\n",
       "    </tr>\n",
       "    <tr>\n",
       "      <th>1</th>\n",
       "      <td>HV0003</td>\n",
       "      <td>B03404</td>\n",
       "      <td>B03404</td>\n",
       "      <td>2022-11-01 00:46:54</td>\n",
       "      <td>2022-11-01 00:49:32</td>\n",
       "      <td>2022-11-01 00:49:50</td>\n",
       "      <td>2022-11-01 00:53:39</td>\n",
       "      <td>61</td>\n",
       "      <td>61</td>\n",
       "      <td>0.57</td>\n",
       "      <td>229</td>\n",
       "      <td>7.91</td>\n",
       "      <td>0.0</td>\n",
       "      <td>0.24</td>\n",
       "      <td>0.70</td>\n",
       "      <td>0.0</td>\n",
       "      <td>0.0</td>\n",
       "      <td>0.0</td>\n",
       "      <td>6.67</td>\n",
       "      <td>N</td>\n",
       "      <td>N</td>\n",
       "      <td></td>\n",
       "      <td>N</td>\n",
       "      <td>N</td>\n",
       "      <td>61</td>\n",
       "      <td>Brooklyn</td>\n",
       "      <td>Crown Heights North</td>\n",
       "      <td>Boro Zone</td>\n",
       "      <td>61</td>\n",
       "      <td>Brooklyn</td>\n",
       "      <td>Crown Heights North</td>\n",
       "      <td>Boro Zone</td>\n",
       "    </tr>\n",
       "    <tr>\n",
       "      <th>2</th>\n",
       "      <td>HV0003</td>\n",
       "      <td>B03404</td>\n",
       "      <td>B03404</td>\n",
       "      <td>2022-11-01 00:08:02</td>\n",
       "      <td>2022-11-01 00:14:09</td>\n",
       "      <td>2022-11-01 00:14:31</td>\n",
       "      <td>2022-11-01 00:20:22</td>\n",
       "      <td>61</td>\n",
       "      <td>61</td>\n",
       "      <td>1.37</td>\n",
       "      <td>351</td>\n",
       "      <td>7.91</td>\n",
       "      <td>0.0</td>\n",
       "      <td>0.24</td>\n",
       "      <td>0.70</td>\n",
       "      <td>0.0</td>\n",
       "      <td>0.0</td>\n",
       "      <td>0.0</td>\n",
       "      <td>5.40</td>\n",
       "      <td>N</td>\n",
       "      <td>N</td>\n",
       "      <td></td>\n",
       "      <td>N</td>\n",
       "      <td>N</td>\n",
       "      <td>61</td>\n",
       "      <td>Brooklyn</td>\n",
       "      <td>Crown Heights North</td>\n",
       "      <td>Boro Zone</td>\n",
       "      <td>61</td>\n",
       "      <td>Brooklyn</td>\n",
       "      <td>Crown Heights North</td>\n",
       "      <td>Boro Zone</td>\n",
       "    </tr>\n",
       "    <tr>\n",
       "      <th>3</th>\n",
       "      <td>HV0003</td>\n",
       "      <td>B03404</td>\n",
       "      <td>B03404</td>\n",
       "      <td>2022-11-01 00:22:42</td>\n",
       "      <td>2022-11-01 00:25:05</td>\n",
       "      <td>2022-11-01 00:27:06</td>\n",
       "      <td>2022-11-01 00:33:40</td>\n",
       "      <td>61</td>\n",
       "      <td>61</td>\n",
       "      <td>0.51</td>\n",
       "      <td>394</td>\n",
       "      <td>10.83</td>\n",
       "      <td>0.0</td>\n",
       "      <td>0.32</td>\n",
       "      <td>0.96</td>\n",
       "      <td>0.0</td>\n",
       "      <td>0.0</td>\n",
       "      <td>1.0</td>\n",
       "      <td>7.16</td>\n",
       "      <td>N</td>\n",
       "      <td>N</td>\n",
       "      <td></td>\n",
       "      <td>N</td>\n",
       "      <td>N</td>\n",
       "      <td>61</td>\n",
       "      <td>Brooklyn</td>\n",
       "      <td>Crown Heights North</td>\n",
       "      <td>Boro Zone</td>\n",
       "      <td>61</td>\n",
       "      <td>Brooklyn</td>\n",
       "      <td>Crown Heights North</td>\n",
       "      <td>Boro Zone</td>\n",
       "    </tr>\n",
       "    <tr>\n",
       "      <th>4</th>\n",
       "      <td>HV0003</td>\n",
       "      <td>B03404</td>\n",
       "      <td>B03404</td>\n",
       "      <td>2022-11-01 00:05:30</td>\n",
       "      <td>2022-11-01 00:10:39</td>\n",
       "      <td>2022-11-01 00:12:40</td>\n",
       "      <td>2022-11-01 00:24:25</td>\n",
       "      <td>61</td>\n",
       "      <td>61</td>\n",
       "      <td>1.66</td>\n",
       "      <td>705</td>\n",
       "      <td>12.04</td>\n",
       "      <td>0.0</td>\n",
       "      <td>0.36</td>\n",
       "      <td>1.07</td>\n",
       "      <td>0.0</td>\n",
       "      <td>0.0</td>\n",
       "      <td>0.0</td>\n",
       "      <td>8.19</td>\n",
       "      <td>N</td>\n",
       "      <td>N</td>\n",
       "      <td></td>\n",
       "      <td>N</td>\n",
       "      <td>N</td>\n",
       "      <td>61</td>\n",
       "      <td>Brooklyn</td>\n",
       "      <td>Crown Heights North</td>\n",
       "      <td>Boro Zone</td>\n",
       "      <td>61</td>\n",
       "      <td>Brooklyn</td>\n",
       "      <td>Crown Heights North</td>\n",
       "      <td>Boro Zone</td>\n",
       "    </tr>\n",
       "  </tbody>\n",
       "</table>\n",
       "</div>"
      ],
      "text/plain": [
       "  hvfhs_license_num dispatching_base_num originating_base_num  \\\n",
       "0            HV0003               B03404               B03404   \n",
       "1            HV0003               B03404               B03404   \n",
       "2            HV0003               B03404               B03404   \n",
       "3            HV0003               B03404               B03404   \n",
       "4            HV0003               B03404               B03404   \n",
       "\n",
       "     request_datetime   on_scene_datetime     pickup_datetime  \\\n",
       "0 2022-11-01 00:04:09 2022-11-01 00:10:11 2022-11-01 00:10:31   \n",
       "1 2022-11-01 00:46:54 2022-11-01 00:49:32 2022-11-01 00:49:50   \n",
       "2 2022-11-01 00:08:02 2022-11-01 00:14:09 2022-11-01 00:14:31   \n",
       "3 2022-11-01 00:22:42 2022-11-01 00:25:05 2022-11-01 00:27:06   \n",
       "4 2022-11-01 00:05:30 2022-11-01 00:10:39 2022-11-01 00:12:40   \n",
       "\n",
       "     dropoff_datetime  PULocationID  DOLocationID  trip_miles  trip_time  \\\n",
       "0 2022-11-01 00:17:28            61            61        1.04        417   \n",
       "1 2022-11-01 00:53:39            61            61        0.57        229   \n",
       "2 2022-11-01 00:20:22            61            61        1.37        351   \n",
       "3 2022-11-01 00:33:40            61            61        0.51        394   \n",
       "4 2022-11-01 00:24:25            61            61        1.66        705   \n",
       "\n",
       "   base_passenger_fare  tolls   bcf  sales_tax  congestion_surcharge  \\\n",
       "0                 7.91    0.0  0.24       0.70                   0.0   \n",
       "1                 7.91    0.0  0.24       0.70                   0.0   \n",
       "2                 7.91    0.0  0.24       0.70                   0.0   \n",
       "3                10.83    0.0  0.32       0.96                   0.0   \n",
       "4                12.04    0.0  0.36       1.07                   0.0   \n",
       "\n",
       "   airport_fee  tips  driver_pay shared_request_flag shared_match_flag  \\\n",
       "0          0.0   0.0        5.40                   N                 N   \n",
       "1          0.0   0.0        6.67                   N                 N   \n",
       "2          0.0   0.0        5.40                   N                 N   \n",
       "3          0.0   1.0        7.16                   N                 N   \n",
       "4          0.0   0.0        8.19                   N                 N   \n",
       "\n",
       "  access_a_ride_flag wav_request_flag wav_match_flag  PULocationID_new  \\\n",
       "0                                   N              N                61   \n",
       "1                                   N              N                61   \n",
       "2                                   N              N                61   \n",
       "3                                   N              N                61   \n",
       "4                                   N              N                61   \n",
       "\n",
       "  PUBorough               PUZone PUservice_zone  DOLocationID_new DOBorough  \\\n",
       "0  Brooklyn  Crown Heights North      Boro Zone                61  Brooklyn   \n",
       "1  Brooklyn  Crown Heights North      Boro Zone                61  Brooklyn   \n",
       "2  Brooklyn  Crown Heights North      Boro Zone                61  Brooklyn   \n",
       "3  Brooklyn  Crown Heights North      Boro Zone                61  Brooklyn   \n",
       "4  Brooklyn  Crown Heights North      Boro Zone                61  Brooklyn   \n",
       "\n",
       "                DOZone DOservice_zone  \n",
       "0  Crown Heights North      Boro Zone  \n",
       "1  Crown Heights North      Boro Zone  \n",
       "2  Crown Heights North      Boro Zone  \n",
       "3  Crown Heights North      Boro Zone  \n",
       "4  Crown Heights North      Boro Zone  "
      ]
     },
     "execution_count": 36,
     "metadata": {},
     "output_type": "execute_result"
    }
   ],
   "source": [
    "fhv_data.head()"
   ]
  },
  {
   "cell_type": "code",
   "execution_count": 41,
   "id": "d61020d8",
   "metadata": {},
   "outputs": [
    {
     "data": {
      "text/plain": [
       "27378"
      ]
     },
     "execution_count": 41,
     "metadata": {},
     "output_type": "execute_result"
    }
   ],
   "source": [
    "fhv_data[fhv_data['shared_match_flag']=='Y']['shared_match_flag'].count()"
   ]
  },
  {
   "cell_type": "code",
   "execution_count": 43,
   "id": "4e2f8854",
   "metadata": {},
   "outputs": [
    {
     "data": {
      "text/plain": [
       "199509"
      ]
     },
     "execution_count": 43,
     "metadata": {},
     "output_type": "execute_result"
    }
   ],
   "source": [
    "fhv_data[fhv_data['shared_request_flag']=='Y']['shared_request_flag'].count()"
   ]
  },
  {
   "cell_type": "code",
   "execution_count": 52,
   "id": "188f3912",
   "metadata": {},
   "outputs": [
    {
     "data": {
      "text/plain": [
       "array(['HV0003', 'HV0005'], dtype=object)"
      ]
     },
     "execution_count": 52,
     "metadata": {},
     "output_type": "execute_result"
    }
   ],
   "source": [
    "fhv_data['hvfhs_license_num'].unique()"
   ]
  },
  {
   "cell_type": "code",
   "execution_count": null,
   "id": "e41da403",
   "metadata": {},
   "outputs": [],
   "source": []
  },
  {
   "cell_type": "code",
   "execution_count": 45,
   "id": "f961dfa9",
   "metadata": {},
   "outputs": [],
   "source": [
    "fhv_data_y = fhv_data[fhv_data['shared_request_flag']=='Y']"
   ]
  },
  {
   "cell_type": "code",
   "execution_count": 47,
   "id": "dec4e797",
   "metadata": {},
   "outputs": [
    {
     "data": {
      "text/plain": [
       "hvfhs_license_num\n",
       "HV0003    199509\n",
       "Name: shared_request_flag, dtype: int64"
      ]
     },
     "execution_count": 47,
     "metadata": {},
     "output_type": "execute_result"
    }
   ],
   "source": [
    "fhv_data_y.groupby('hvfhs_license_num')['shared_request_flag'].count()"
   ]
  },
  {
   "cell_type": "code",
   "execution_count": 49,
   "id": "608285e3",
   "metadata": {},
   "outputs": [],
   "source": [
    "fhv_data_y_lyft = fhv_data_y[fhv_data_y['hvfhs_license_num']=='HV0005']"
   ]
  },
  {
   "cell_type": "code",
   "execution_count": 51,
   "id": "1905bdc6",
   "metadata": {},
   "outputs": [
    {
     "data": {
      "text/plain": [
       "0"
      ]
     },
     "execution_count": 51,
     "metadata": {},
     "output_type": "execute_result"
    }
   ],
   "source": [
    "fhv_data_y_lyft['shared_match_flag'].count()"
   ]
  },
  {
   "cell_type": "code",
   "execution_count": 53,
   "id": "bc0fd4df",
   "metadata": {},
   "outputs": [
    {
     "name": "stderr",
     "output_type": "stream",
     "text": [
      "\n",
      "KeyboardInterrupt\n",
      "\n"
     ]
    }
   ],
   "source": [
    "fhv_data.groupby('hvfhs_license_num').size()"
   ]
  },
  {
   "cell_type": "code",
   "execution_count": 54,
   "id": "118190d3",
   "metadata": {},
   "outputs": [],
   "source": [
    "fhv_data = pd.read_parquet(\"fhv_tripdata_2022-11.parquet\")"
   ]
  },
  {
   "cell_type": "code",
   "execution_count": 55,
   "id": "111ef774",
   "metadata": {},
   "outputs": [
    {
     "data": {
      "text/html": [
       "<div>\n",
       "<style scoped>\n",
       "    .dataframe tbody tr th:only-of-type {\n",
       "        vertical-align: middle;\n",
       "    }\n",
       "\n",
       "    .dataframe tbody tr th {\n",
       "        vertical-align: top;\n",
       "    }\n",
       "\n",
       "    .dataframe thead th {\n",
       "        text-align: right;\n",
       "    }\n",
       "</style>\n",
       "<table border=\"1\" class=\"dataframe\">\n",
       "  <thead>\n",
       "    <tr style=\"text-align: right;\">\n",
       "      <th></th>\n",
       "      <th>dispatching_base_num</th>\n",
       "      <th>pickup_datetime</th>\n",
       "      <th>dropOff_datetime</th>\n",
       "      <th>PUlocationID</th>\n",
       "      <th>DOlocationID</th>\n",
       "      <th>SR_Flag</th>\n",
       "      <th>Affiliated_base_number</th>\n",
       "    </tr>\n",
       "  </thead>\n",
       "  <tbody>\n",
       "    <tr>\n",
       "      <th>0</th>\n",
       "      <td>B00008</td>\n",
       "      <td>2022-11-01 00:00:00</td>\n",
       "      <td>2022-11-01 00:30:00</td>\n",
       "      <td>NaN</td>\n",
       "      <td>NaN</td>\n",
       "      <td>None</td>\n",
       "      <td>B00008</td>\n",
       "    </tr>\n",
       "    <tr>\n",
       "      <th>1</th>\n",
       "      <td>B00013</td>\n",
       "      <td>2022-11-01 00:37:15</td>\n",
       "      <td>2022-11-01 01:23:00</td>\n",
       "      <td>NaN</td>\n",
       "      <td>NaN</td>\n",
       "      <td>None</td>\n",
       "      <td>B00608</td>\n",
       "    </tr>\n",
       "    <tr>\n",
       "      <th>2</th>\n",
       "      <td>B00037</td>\n",
       "      <td>2022-11-01 00:11:18</td>\n",
       "      <td>2022-11-01 00:23:23</td>\n",
       "      <td>NaN</td>\n",
       "      <td>76.0</td>\n",
       "      <td>None</td>\n",
       "      <td>B00037</td>\n",
       "    </tr>\n",
       "    <tr>\n",
       "      <th>3</th>\n",
       "      <td>B00037</td>\n",
       "      <td>2022-11-01 00:41:14</td>\n",
       "      <td>2022-11-01 00:47:50</td>\n",
       "      <td>NaN</td>\n",
       "      <td>39.0</td>\n",
       "      <td>None</td>\n",
       "      <td>B00037</td>\n",
       "    </tr>\n",
       "    <tr>\n",
       "      <th>4</th>\n",
       "      <td>B00111</td>\n",
       "      <td>2022-11-01 00:30:00</td>\n",
       "      <td>2022-11-01 01:31:00</td>\n",
       "      <td>NaN</td>\n",
       "      <td>NaN</td>\n",
       "      <td>None</td>\n",
       "      <td>B00608</td>\n",
       "    </tr>\n",
       "  </tbody>\n",
       "</table>\n",
       "</div>"
      ],
      "text/plain": [
       "  dispatching_base_num     pickup_datetime    dropOff_datetime  PUlocationID  \\\n",
       "0               B00008 2022-11-01 00:00:00 2022-11-01 00:30:00           NaN   \n",
       "1               B00013 2022-11-01 00:37:15 2022-11-01 01:23:00           NaN   \n",
       "2               B00037 2022-11-01 00:11:18 2022-11-01 00:23:23           NaN   \n",
       "3               B00037 2022-11-01 00:41:14 2022-11-01 00:47:50           NaN   \n",
       "4               B00111 2022-11-01 00:30:00 2022-11-01 01:31:00           NaN   \n",
       "\n",
       "   DOlocationID SR_Flag Affiliated_base_number  \n",
       "0           NaN    None                 B00008  \n",
       "1           NaN    None                 B00608  \n",
       "2          76.0    None                 B00037  \n",
       "3          39.0    None                 B00037  \n",
       "4           NaN    None                 B00608  "
      ]
     },
     "execution_count": 55,
     "metadata": {},
     "output_type": "execute_result"
    }
   ],
   "source": [
    "fhv_data.head()"
   ]
  },
  {
   "cell_type": "code",
   "execution_count": 56,
   "id": "cb3efd51",
   "metadata": {},
   "outputs": [
    {
     "data": {
      "text/plain": [
       "(1106084, 7)"
      ]
     },
     "execution_count": 56,
     "metadata": {},
     "output_type": "execute_result"
    }
   ],
   "source": [
    "fhv_data.shape"
   ]
  },
  {
   "cell_type": "code",
   "execution_count": 64,
   "id": "107a0670",
   "metadata": {},
   "outputs": [
    {
     "data": {
      "text/html": [
       "<div>\n",
       "<style scoped>\n",
       "    .dataframe tbody tr th:only-of-type {\n",
       "        vertical-align: middle;\n",
       "    }\n",
       "\n",
       "    .dataframe tbody tr th {\n",
       "        vertical-align: top;\n",
       "    }\n",
       "\n",
       "    .dataframe thead th {\n",
       "        text-align: right;\n",
       "    }\n",
       "</style>\n",
       "<table border=\"1\" class=\"dataframe\">\n",
       "  <thead>\n",
       "    <tr style=\"text-align: right;\">\n",
       "      <th></th>\n",
       "      <th>dispatching_base_num</th>\n",
       "      <th>pickup_datetime</th>\n",
       "      <th>dropOff_datetime</th>\n",
       "      <th>PUlocationID</th>\n",
       "      <th>DOlocationID</th>\n",
       "      <th>SR_Flag</th>\n",
       "      <th>Affiliated_base_number</th>\n",
       "    </tr>\n",
       "  </thead>\n",
       "  <tbody>\n",
       "  </tbody>\n",
       "</table>\n",
       "</div>"
      ],
      "text/plain": [
       "Empty DataFrame\n",
       "Columns: [dispatching_base_num, pickup_datetime, dropOff_datetime, PUlocationID, DOlocationID, SR_Flag, Affiliated_base_number]\n",
       "Index: []"
      ]
     },
     "execution_count": 64,
     "metadata": {},
     "output_type": "execute_result"
    }
   ],
   "source": [
    "fhv_data[(fhv_data['dispatching_base_num']=='UBER')]"
   ]
  },
  {
   "cell_type": "code",
   "execution_count": 62,
   "id": "2b5d3ad6",
   "metadata": {},
   "outputs": [
    {
     "data": {
      "text/plain": [
       "dispatching_base_num\n",
       "B00001      681\n",
       "B00008      976\n",
       "B00009      734\n",
       "B00013      723\n",
       "B00014      956\n",
       "B00037     2512\n",
       "B00053      185\n",
       "B00054      105\n",
       "B00078      438\n",
       "B00095      726\n",
       "B00111     2994\n",
       "B00112     5907\n",
       "B00149     1681\n",
       "B00151        9\n",
       "B00202     1111\n",
       "B00208       51\n",
       "B00221     2438\n",
       "B00222      570\n",
       "B00225     2346\n",
       "B00227     2734\n",
       "B00235     6753\n",
       "B00254     6451\n",
       "B00255       20\n",
       "B00256    19941\n",
       "B00271     3390\n",
       "B00272      786\n",
       "B00277      820\n",
       "B00280      612\n",
       "B00310    17925\n",
       "B00345       61\n",
       "B00350      633\n",
       "B00381      778\n",
       "B00387      113\n",
       "B00411      325\n",
       "B00412     6401\n",
       "B00429     2057\n",
       "B00445     3451\n",
       "B00446     1608\n",
       "B00448     3306\n",
       "B00449     3273\n",
       "B00459      142\n",
       "B00477        1\n",
       "B00556      221\n",
       "B00559       72\n",
       "B00597      315\n",
       "B00608      577\n",
       "B00623      195\n",
       "B00625      984\n",
       "B00628     2591\n",
       "B00647    11179\n",
       "B00652     1257\n",
       "B00692     5051\n",
       "B00706     9745\n",
       "B00756     3789\n",
       "B00789     2383\n",
       "B00802     2513\n",
       "B00821     9802\n",
       "B00823      512\n",
       "B00827      422\n",
       "B00837     5243\n",
       "B00850      178\n",
       "B00856    55360\n",
       "B00887    11997\n",
       "B00888      337\n",
       "B00889     1946\n",
       "B00900    12604\n",
       "B00906      598\n",
       "B00911     1863\n",
       "B00932      839\n",
       "B00937     7784\n",
       "B00948      783\n",
       "B00965     8517\n",
       "B00972     1739\n",
       "B00975      514\n",
       "B01009      495\n",
       "B01013     1003\n",
       "B01016     2090\n",
       "B01020      398\n",
       "B01029      668\n",
       "B01057      766\n",
       "B01061     7013\n",
       "B01066      628\n",
       "B01079     3395\n",
       "B01081      163\n",
       "B01083     2136\n",
       "B01087    11770\n",
       "B01091     3033\n",
       "B01124      677\n",
       "B01128      433\n",
       "B01145     4522\n",
       "B01176     1416\n",
       "B01183      330\n",
       "B01194       42\n",
       "B01196     6866\n",
       "B01200     7244\n",
       "B01215      918\n",
       "B01231     3833\n",
       "B01233     3752\n",
       "B01259     1991\n",
       "B01268     1608\n",
       "B01273      184\n",
       "B01280     1124\n",
       "B01282     2179\n",
       "B01285     4443\n",
       "B01306       56\n",
       "B01311      359\n",
       "B01312     1958\n",
       "B01315     3462\n",
       "B01338    11652\n",
       "B01339     5050\n",
       "B01340     6449\n",
       "B01341      556\n",
       "B01346     1959\n",
       "B01349      581\n",
       "B01364      349\n",
       "B01367     1783\n",
       "B01381     4394\n",
       "B01391     1545\n",
       "B01406     3233\n",
       "B01417     2449\n",
       "B01424      226\n",
       "B01432     1811\n",
       "B01437     8395\n",
       "B01445     2828\n",
       "B01452     1363\n",
       "B01454     3045\n",
       "B01455     3597\n",
       "B01466      390\n",
       "B01470      515\n",
       "B01509     1993\n",
       "B01527      516\n",
       "B01534      250\n",
       "B01537      998\n",
       "B01540     1126\n",
       "B01546     1049\n",
       "B01559     1375\n",
       "B01568      303\n",
       "B01593      183\n",
       "B01601     1096\n",
       "B01606      731\n",
       "B01616      266\n",
       "B01625      123\n",
       "B01626    11423\n",
       "B01629      228\n",
       "B01639     5934\n",
       "B01644      902\n",
       "B01663      511\n",
       "B01667    10434\n",
       "B01678     2434\n",
       "B01710    10164\n",
       "B01717     6375\n",
       "B01721      760\n",
       "B01726     3400\n",
       "B01730     4288\n",
       "B01738     1904\n",
       "B01742      290\n",
       "B01743     2999\n",
       "B01745     4059\n",
       "B01768     1590\n",
       "B01777     1369\n",
       "B01779      254\n",
       "B01800     2626\n",
       "B01803     1085\n",
       "B01843     1003\n",
       "B01854     1787\n",
       "B01871     1158\n",
       "B01877     1665\n",
       "B01899    33264\n",
       "B01913      512\n",
       "B01928       33\n",
       "B01944       54\n",
       "B01963     2987\n",
       "B01970      122\n",
       "B01980      210\n",
       "B01984     9132\n",
       "B01995      523\n",
       "B02003     1286\n",
       "B02005      367\n",
       "B02016      569\n",
       "B02021      537\n",
       "B02050      279\n",
       "B02055      133\n",
       "B02060     1124\n",
       "B02067      651\n",
       "B02096      122\n",
       "B02101      810\n",
       "B02103      368\n",
       "B02107     3204\n",
       "B02110      453\n",
       "B02111     4444\n",
       "B02120     2168\n",
       "B02127       29\n",
       "B02133    69426\n",
       "B02144      147\n",
       "B02148      259\n",
       "B02152      262\n",
       "B02157     3687\n",
       "B02162     1432\n",
       "B02163     1376\n",
       "B02167       28\n",
       "B02173      520\n",
       "B02182    10368\n",
       "B02207        3\n",
       "B02217      348\n",
       "B02228        5\n",
       "B02240       50\n",
       "B02248      252\n",
       "B02249      923\n",
       "B02254     1323\n",
       "B02285     2058\n",
       "B02287       95\n",
       "B02292     2131\n",
       "B02298      145\n",
       "B02301       10\n",
       "B02311     1855\n",
       "B02315     1596\n",
       "B02331     1980\n",
       "B02334      257\n",
       "B02339      137\n",
       "B02342      137\n",
       "B02352     1197\n",
       "B02391     1327\n",
       "B02401     1518\n",
       "B02406      126\n",
       "B02410      973\n",
       "B02416     3953\n",
       "B02418      311\n",
       "B02424      547\n",
       "B02429     3324\n",
       "B02437     4422\n",
       "B02453      100\n",
       "B02461     4040\n",
       "B02462      179\n",
       "B02472      785\n",
       "B02491       22\n",
       "B02509     3844\n",
       "B02522      103\n",
       "B02531     1417\n",
       "B02532      638\n",
       "B02536     2751\n",
       "B02537     3772\n",
       "B02546    19115\n",
       "B02550    51761\n",
       "B02557     1149\n",
       "B02563     8221\n",
       "B02573      194\n",
       "B02599      128\n",
       "B02627       68\n",
       "B02629      218\n",
       "B02641     1455\n",
       "B02655      788\n",
       "B02658      750\n",
       "B02664      114\n",
       "B02670      477\n",
       "B02671     2023\n",
       "B02674     1592\n",
       "B02677     1125\n",
       "B02687      868\n",
       "B02699      362\n",
       "B02719     1132\n",
       "B02724      240\n",
       "B02728     1271\n",
       "B02731      304\n",
       "B02736      253\n",
       "B02737      827\n",
       "B02738      458\n",
       "B02739        4\n",
       "B02747      199\n",
       "B02756      201\n",
       "B02760      629\n",
       "B02762      498\n",
       "B02770      312\n",
       "B02774      343\n",
       "B02782     3622\n",
       "B02784     6126\n",
       "B02794     3071\n",
       "B02795     8312\n",
       "B02799     3683\n",
       "B02803     1335\n",
       "B02814     3570\n",
       "B02817      252\n",
       "B02819      521\n",
       "B02823       12\n",
       "B02825     1508\n",
       "B02832     1269\n",
       "B02833      264\n",
       "B02834      992\n",
       "B02838     1822\n",
       "B02846     1443\n",
       "B02849    11783\n",
       "B02852       54\n",
       "B02853        8\n",
       "B02855     1458\n",
       "B02868     1294\n",
       "B02881     3742\n",
       "B02898     1654\n",
       "B02899       64\n",
       "B02901      543\n",
       "B02902     1086\n",
       "B02905     6530\n",
       "B02909      402\n",
       "B02912     2709\n",
       "B02917      966\n",
       "B02920     3412\n",
       "B02924       27\n",
       "B02929       59\n",
       "B02930     5309\n",
       "B02934      110\n",
       "B02947     2478\n",
       "B02962     2364\n",
       "B02968     7006\n",
       "B02971      101\n",
       "B02972      812\n",
       "B02975     3381\n",
       "B02989     4526\n",
       "B02990     1838\n",
       "B02997     4270\n",
       "B02998       59\n",
       "B03002     1734\n",
       "B03015    12604\n",
       "B03017     4074\n",
       "B03018        2\n",
       "B03028     1019\n",
       "B03032     2082\n",
       "B03033     3838\n",
       "B03037        1\n",
       "B03040      251\n",
       "B03041     1666\n",
       "B03046     4799\n",
       "B03047     1443\n",
       "B03050      116\n",
       "B03051     1833\n",
       "B03055      728\n",
       "B03057       77\n",
       "B03060     7867\n",
       "B03061      679\n",
       "B03064       54\n",
       "B03074      281\n",
       "B03081       36\n",
       "B03085       45\n",
       "B03097       28\n",
       "B03100      317\n",
       "B03104     3202\n",
       "B03105      378\n",
       "B03107      725\n",
       "B03113      545\n",
       "B03116     1110\n",
       "B03126      345\n",
       "B03138      144\n",
       "B03139      472\n",
       "B03145     1799\n",
       "B03147      733\n",
       "B03153      149\n",
       "B03156     1619\n",
       "B03157     3757\n",
       "B03164     5554\n",
       "B03166      152\n",
       "B03171     3756\n",
       "B03174     1179\n",
       "B03181       65\n",
       "B03185      167\n",
       "B03187     1025\n",
       "B03191       50\n",
       "B03194      503\n",
       "B03197       94\n",
       "B03199      490\n",
       "B03206      170\n",
       "B03209     1112\n",
       "B03211      238\n",
       "B03229       58\n",
       "B03233       52\n",
       "B03236     1241\n",
       "B03239     2801\n",
       "B03240      332\n",
       "B03248      204\n",
       "B03258      156\n",
       "B03262     1211\n",
       "B03263      337\n",
       "B03266     7854\n",
       "B03267     2303\n",
       "B03268      475\n",
       "B03269      501\n",
       "B03275      656\n",
       "B03276      136\n",
       "B03281      460\n",
       "B03282      179\n",
       "B03283     1017\n",
       "B03284    73819\n",
       "B03285     2033\n",
       "B03286      283\n",
       "B03287      258\n",
       "B03291      178\n",
       "B03292      235\n",
       "B03296       97\n",
       "B03297       90\n",
       "B03299     5767\n",
       "B03309     1187\n",
       "B03312     1893\n",
       "B03314      680\n",
       "B03315      888\n",
       "B03320      291\n",
       "B03321      990\n",
       "B03324      123\n",
       "B03326      769\n",
       "B03329      214\n",
       "B03333      973\n",
       "B03334      146\n",
       "B03335      921\n",
       "B03336      256\n",
       "B03338       74\n",
       "B03339      228\n",
       "B03341      388\n",
       "B03343     1500\n",
       "B03346     1265\n",
       "B03349      663\n",
       "B03355     1436\n",
       "B03361      311\n",
       "B03367      101\n",
       "B03371      101\n",
       "B03387      443\n",
       "B03388      918\n",
       "B03391     1687\n",
       "B03393       68\n",
       "B03421       49\n",
       "B03424        2\n",
       "B03433       37\n",
       "B03436     4932\n",
       "B03455     1459\n",
       "b02594      375\n",
       "dtype: int64"
      ]
     },
     "execution_count": 62,
     "metadata": {},
     "output_type": "execute_result"
    }
   ],
   "source": [
    "fhv_data.groupby('dispatching_base_num').size()"
   ]
  },
  {
   "cell_type": "code",
   "execution_count": null,
   "id": "f5044209",
   "metadata": {},
   "outputs": [],
   "source": [
    "['B03404', 'B02764', 'B02872', 'B02887', 'B02869', 'B02870','B02835', 'B02889', 'B02765', 'B02512', 'B02864', 'B02880','B02876', 'B02888', 'B02877', 'B02871', 'B02879','B03406']"
   ]
  },
  {
   "cell_type": "code",
   "execution_count": 78,
   "id": "ece6857f",
   "metadata": {},
   "outputs": [],
   "source": [
    "fhv_data_uber_lyft = fhv_data[fhv_data['Affiliated_base_number'].isin(['B03404', 'B02764', 'B02872', 'B02887', 'B02869', 'B02870','B02835', 'B02889', 'B02765', 'B02512', 'B02864', 'B02880','B02876', 'B02888', 'B02877','B02871','B02879','B03406'])]"
   ]
  },
  {
   "cell_type": "code",
   "execution_count": 79,
   "id": "64deab55",
   "metadata": {},
   "outputs": [
    {
     "data": {
      "text/html": [
       "<div>\n",
       "<style scoped>\n",
       "    .dataframe tbody tr th:only-of-type {\n",
       "        vertical-align: middle;\n",
       "    }\n",
       "\n",
       "    .dataframe tbody tr th {\n",
       "        vertical-align: top;\n",
       "    }\n",
       "\n",
       "    .dataframe thead th {\n",
       "        text-align: right;\n",
       "    }\n",
       "</style>\n",
       "<table border=\"1\" class=\"dataframe\">\n",
       "  <thead>\n",
       "    <tr style=\"text-align: right;\">\n",
       "      <th></th>\n",
       "      <th>dispatching_base_num</th>\n",
       "      <th>pickup_datetime</th>\n",
       "      <th>dropOff_datetime</th>\n",
       "      <th>PUlocationID</th>\n",
       "      <th>DOlocationID</th>\n",
       "      <th>SR_Flag</th>\n",
       "      <th>Affiliated_base_number</th>\n",
       "    </tr>\n",
       "  </thead>\n",
       "  <tbody>\n",
       "    <tr>\n",
       "      <th>6</th>\n",
       "      <td>B00111</td>\n",
       "      <td>2022-11-01 00:52:34</td>\n",
       "      <td>2022-11-01 02:06:00</td>\n",
       "      <td>NaN</td>\n",
       "      <td>NaN</td>\n",
       "      <td>None</td>\n",
       "      <td>B03404</td>\n",
       "    </tr>\n",
       "    <tr>\n",
       "      <th>36</th>\n",
       "      <td>B00310</td>\n",
       "      <td>2022-11-01 00:06:07</td>\n",
       "      <td>2022-11-01 00:15:04</td>\n",
       "      <td>NaN</td>\n",
       "      <td>250.0</td>\n",
       "      <td>None</td>\n",
       "      <td>B03404</td>\n",
       "    </tr>\n",
       "    <tr>\n",
       "      <th>39</th>\n",
       "      <td>B00310</td>\n",
       "      <td>2022-11-01 00:10:27</td>\n",
       "      <td>2022-11-01 00:29:34</td>\n",
       "      <td>NaN</td>\n",
       "      <td>213.0</td>\n",
       "      <td>None</td>\n",
       "      <td>B03404</td>\n",
       "    </tr>\n",
       "    <tr>\n",
       "      <th>76</th>\n",
       "      <td>B00692</td>\n",
       "      <td>2022-11-01 00:48:10</td>\n",
       "      <td>2022-11-01 00:54:55</td>\n",
       "      <td>NaN</td>\n",
       "      <td>61.0</td>\n",
       "      <td>None</td>\n",
       "      <td>B03404</td>\n",
       "    </tr>\n",
       "    <tr>\n",
       "      <th>91</th>\n",
       "      <td>B00821</td>\n",
       "      <td>2022-11-01 00:24:17</td>\n",
       "      <td>2022-11-01 00:31:26</td>\n",
       "      <td>NaN</td>\n",
       "      <td>63.0</td>\n",
       "      <td>None</td>\n",
       "      <td>B03404</td>\n",
       "    </tr>\n",
       "  </tbody>\n",
       "</table>\n",
       "</div>"
      ],
      "text/plain": [
       "   dispatching_base_num     pickup_datetime    dropOff_datetime  PUlocationID  \\\n",
       "6                B00111 2022-11-01 00:52:34 2022-11-01 02:06:00           NaN   \n",
       "36               B00310 2022-11-01 00:06:07 2022-11-01 00:15:04           NaN   \n",
       "39               B00310 2022-11-01 00:10:27 2022-11-01 00:29:34           NaN   \n",
       "76               B00692 2022-11-01 00:48:10 2022-11-01 00:54:55           NaN   \n",
       "91               B00821 2022-11-01 00:24:17 2022-11-01 00:31:26           NaN   \n",
       "\n",
       "    DOlocationID SR_Flag Affiliated_base_number  \n",
       "6            NaN    None                 B03404  \n",
       "36         250.0    None                 B03404  \n",
       "39         213.0    None                 B03404  \n",
       "76          61.0    None                 B03404  \n",
       "91          63.0    None                 B03404  "
      ]
     },
     "execution_count": 79,
     "metadata": {},
     "output_type": "execute_result"
    }
   ],
   "source": [
    "fhv_data_uber_lyft.head()"
   ]
  },
  {
   "cell_type": "code",
   "execution_count": 80,
   "id": "3cd438dd",
   "metadata": {},
   "outputs": [
    {
     "data": {
      "text/plain": [
       "(185090, 7)"
      ]
     },
     "execution_count": 80,
     "metadata": {},
     "output_type": "execute_result"
    }
   ],
   "source": [
    "fhv_data_uber_lyft.shape"
   ]
  },
  {
   "cell_type": "code",
   "execution_count": 32,
   "id": "c9aa00fd",
   "metadata": {},
   "outputs": [
    {
     "data": {
      "text/plain": [
       "Index(['hvfhs_license_num', 'dispatching_base_num', 'originating_base_num',\n",
       "       'request_datetime', 'on_scene_datetime', 'pickup_datetime',\n",
       "       'dropoff_datetime', 'PULocationID', 'DOLocationID', 'trip_miles',\n",
       "       'trip_time', 'base_passenger_fare', 'tolls', 'bcf', 'sales_tax',\n",
       "       'congestion_surcharge', 'airport_fee', 'tips', 'driver_pay',\n",
       "       'shared_request_flag', 'shared_match_flag', 'access_a_ride_flag',\n",
       "       'wav_request_flag', 'wav_match_flag', 'PULocationID_new', 'PUBorough',\n",
       "       'PUZone', 'PUservice_zone', 'DOLocationID_new', 'DOBorough', 'DOZone',\n",
       "       'DOservice_zone'],\n",
       "      dtype='object')"
      ]
     },
     "execution_count": 32,
     "metadata": {},
     "output_type": "execute_result"
    }
   ],
   "source": [
    "fhv_data_uber_lyft"
   ]
  },
  {
   "cell_type": "code",
   "execution_count": null,
   "id": "b7109d13",
   "metadata": {},
   "outputs": [],
   "source": [
    "fhv_data.columns"
   ]
  },
  {
   "cell_type": "code",
   "execution_count": 33,
   "id": "5c7370e1",
   "metadata": {},
   "outputs": [],
   "source": [
    "fhv_data['route_borough'] = fhv_data['PUBorough'] + '-' + fhv_data['DOBorough']\n",
    "fhv_data['route_zone'] = fhv_data['PUZone'] + '-' + fhv_data['DOZone']\n",
    "fhv_data['route_service_zone'] = fhv_data['PUservice_zone'] + '-' + fhv_data['DOservice_zone']"
   ]
  },
  {
   "cell_type": "code",
   "execution_count": 34,
   "id": "7d78d641",
   "metadata": {
    "scrolled": false
   },
   "outputs": [
    {
     "data": {
      "text/plain": [
       "array(['Boro Zone-Boro Zone', 'Yellow Zone-Boro Zone',\n",
       "       'Airports-Boro Zone', nan, 'Boro Zone-Yellow Zone',\n",
       "       'Yellow Zone-Yellow Zone', 'Airports-Yellow Zone',\n",
       "       'Boro Zone-Airports', 'Yellow Zone-Airports', 'Airports-Airports',\n",
       "       'Boro Zone-EWR', 'Yellow Zone-EWR', 'Airports-EWR', 'EWR-EWR'],\n",
       "      dtype=object)"
      ]
     },
     "execution_count": 34,
     "metadata": {},
     "output_type": "execute_result"
    }
   ],
   "source": [
    "fhv_data['route_service_zone'].unique()"
   ]
  },
  {
   "cell_type": "code",
   "execution_count": 52,
   "id": "2374ec7a",
   "metadata": {},
   "outputs": [
    {
     "data": {
      "text/html": [
       "<div>\n",
       "<style scoped>\n",
       "    .dataframe tbody tr th:only-of-type {\n",
       "        vertical-align: middle;\n",
       "    }\n",
       "\n",
       "    .dataframe tbody tr th {\n",
       "        vertical-align: top;\n",
       "    }\n",
       "\n",
       "    .dataframe thead th {\n",
       "        text-align: right;\n",
       "    }\n",
       "</style>\n",
       "<table border=\"1\" class=\"dataframe\">\n",
       "  <thead>\n",
       "    <tr style=\"text-align: right;\">\n",
       "      <th></th>\n",
       "      <th>hvfhs_license_num</th>\n",
       "      <th>dispatching_base_num</th>\n",
       "      <th>originating_base_num</th>\n",
       "      <th>request_datetime</th>\n",
       "      <th>on_scene_datetime</th>\n",
       "      <th>pickup_datetime</th>\n",
       "      <th>dropoff_datetime</th>\n",
       "      <th>PULocationID</th>\n",
       "      <th>DOLocationID</th>\n",
       "      <th>trip_miles</th>\n",
       "      <th>trip_time</th>\n",
       "      <th>base_passenger_fare</th>\n",
       "      <th>tolls</th>\n",
       "      <th>bcf</th>\n",
       "      <th>sales_tax</th>\n",
       "      <th>congestion_surcharge</th>\n",
       "      <th>airport_fee</th>\n",
       "      <th>tips</th>\n",
       "      <th>driver_pay</th>\n",
       "      <th>shared_request_flag</th>\n",
       "      <th>shared_match_flag</th>\n",
       "      <th>access_a_ride_flag</th>\n",
       "      <th>wav_request_flag</th>\n",
       "      <th>wav_match_flag</th>\n",
       "      <th>PULocationID_new</th>\n",
       "      <th>PUBorough</th>\n",
       "      <th>PUZone</th>\n",
       "      <th>PUservice_zone</th>\n",
       "      <th>DOLocationID_new</th>\n",
       "      <th>DOBorough</th>\n",
       "      <th>DOZone</th>\n",
       "      <th>DOservice_zone</th>\n",
       "      <th>route_borough</th>\n",
       "      <th>route_zone</th>\n",
       "      <th>route_service_zone</th>\n",
       "    </tr>\n",
       "  </thead>\n",
       "  <tbody>\n",
       "    <tr>\n",
       "      <th>0</th>\n",
       "      <td>HV0003</td>\n",
       "      <td>B03404</td>\n",
       "      <td>B03404</td>\n",
       "      <td>2022-11-01 00:04:09</td>\n",
       "      <td>2022-11-01 00:10:11</td>\n",
       "      <td>2022-11-01 00:10:31</td>\n",
       "      <td>2022-11-01 00:17:28</td>\n",
       "      <td>61</td>\n",
       "      <td>61</td>\n",
       "      <td>1.04</td>\n",
       "      <td>417</td>\n",
       "      <td>7.91</td>\n",
       "      <td>0.0</td>\n",
       "      <td>0.24</td>\n",
       "      <td>0.70</td>\n",
       "      <td>0.0</td>\n",
       "      <td>0.0</td>\n",
       "      <td>0.0</td>\n",
       "      <td>5.40</td>\n",
       "      <td>N</td>\n",
       "      <td>N</td>\n",
       "      <td></td>\n",
       "      <td>N</td>\n",
       "      <td>N</td>\n",
       "      <td>61</td>\n",
       "      <td>Brooklyn</td>\n",
       "      <td>Crown Heights North</td>\n",
       "      <td>Boro Zone</td>\n",
       "      <td>61</td>\n",
       "      <td>Brooklyn</td>\n",
       "      <td>Crown Heights North</td>\n",
       "      <td>Boro Zone</td>\n",
       "      <td>Brooklyn-Brooklyn</td>\n",
       "      <td>Crown Heights North-Crown Heights North</td>\n",
       "      <td>Boro Zone-Boro Zone</td>\n",
       "    </tr>\n",
       "    <tr>\n",
       "      <th>1</th>\n",
       "      <td>HV0003</td>\n",
       "      <td>B03404</td>\n",
       "      <td>B03404</td>\n",
       "      <td>2022-11-01 00:46:54</td>\n",
       "      <td>2022-11-01 00:49:32</td>\n",
       "      <td>2022-11-01 00:49:50</td>\n",
       "      <td>2022-11-01 00:53:39</td>\n",
       "      <td>61</td>\n",
       "      <td>61</td>\n",
       "      <td>0.57</td>\n",
       "      <td>229</td>\n",
       "      <td>7.91</td>\n",
       "      <td>0.0</td>\n",
       "      <td>0.24</td>\n",
       "      <td>0.70</td>\n",
       "      <td>0.0</td>\n",
       "      <td>0.0</td>\n",
       "      <td>0.0</td>\n",
       "      <td>6.67</td>\n",
       "      <td>N</td>\n",
       "      <td>N</td>\n",
       "      <td></td>\n",
       "      <td>N</td>\n",
       "      <td>N</td>\n",
       "      <td>61</td>\n",
       "      <td>Brooklyn</td>\n",
       "      <td>Crown Heights North</td>\n",
       "      <td>Boro Zone</td>\n",
       "      <td>61</td>\n",
       "      <td>Brooklyn</td>\n",
       "      <td>Crown Heights North</td>\n",
       "      <td>Boro Zone</td>\n",
       "      <td>Brooklyn-Brooklyn</td>\n",
       "      <td>Crown Heights North-Crown Heights North</td>\n",
       "      <td>Boro Zone-Boro Zone</td>\n",
       "    </tr>\n",
       "    <tr>\n",
       "      <th>2</th>\n",
       "      <td>HV0003</td>\n",
       "      <td>B03404</td>\n",
       "      <td>B03404</td>\n",
       "      <td>2022-11-01 00:08:02</td>\n",
       "      <td>2022-11-01 00:14:09</td>\n",
       "      <td>2022-11-01 00:14:31</td>\n",
       "      <td>2022-11-01 00:20:22</td>\n",
       "      <td>61</td>\n",
       "      <td>61</td>\n",
       "      <td>1.37</td>\n",
       "      <td>351</td>\n",
       "      <td>7.91</td>\n",
       "      <td>0.0</td>\n",
       "      <td>0.24</td>\n",
       "      <td>0.70</td>\n",
       "      <td>0.0</td>\n",
       "      <td>0.0</td>\n",
       "      <td>0.0</td>\n",
       "      <td>5.40</td>\n",
       "      <td>N</td>\n",
       "      <td>N</td>\n",
       "      <td></td>\n",
       "      <td>N</td>\n",
       "      <td>N</td>\n",
       "      <td>61</td>\n",
       "      <td>Brooklyn</td>\n",
       "      <td>Crown Heights North</td>\n",
       "      <td>Boro Zone</td>\n",
       "      <td>61</td>\n",
       "      <td>Brooklyn</td>\n",
       "      <td>Crown Heights North</td>\n",
       "      <td>Boro Zone</td>\n",
       "      <td>Brooklyn-Brooklyn</td>\n",
       "      <td>Crown Heights North-Crown Heights North</td>\n",
       "      <td>Boro Zone-Boro Zone</td>\n",
       "    </tr>\n",
       "    <tr>\n",
       "      <th>3</th>\n",
       "      <td>HV0003</td>\n",
       "      <td>B03404</td>\n",
       "      <td>B03404</td>\n",
       "      <td>2022-11-01 00:22:42</td>\n",
       "      <td>2022-11-01 00:25:05</td>\n",
       "      <td>2022-11-01 00:27:06</td>\n",
       "      <td>2022-11-01 00:33:40</td>\n",
       "      <td>61</td>\n",
       "      <td>61</td>\n",
       "      <td>0.51</td>\n",
       "      <td>394</td>\n",
       "      <td>10.83</td>\n",
       "      <td>0.0</td>\n",
       "      <td>0.32</td>\n",
       "      <td>0.96</td>\n",
       "      <td>0.0</td>\n",
       "      <td>0.0</td>\n",
       "      <td>1.0</td>\n",
       "      <td>7.16</td>\n",
       "      <td>N</td>\n",
       "      <td>N</td>\n",
       "      <td></td>\n",
       "      <td>N</td>\n",
       "      <td>N</td>\n",
       "      <td>61</td>\n",
       "      <td>Brooklyn</td>\n",
       "      <td>Crown Heights North</td>\n",
       "      <td>Boro Zone</td>\n",
       "      <td>61</td>\n",
       "      <td>Brooklyn</td>\n",
       "      <td>Crown Heights North</td>\n",
       "      <td>Boro Zone</td>\n",
       "      <td>Brooklyn-Brooklyn</td>\n",
       "      <td>Crown Heights North-Crown Heights North</td>\n",
       "      <td>Boro Zone-Boro Zone</td>\n",
       "    </tr>\n",
       "    <tr>\n",
       "      <th>4</th>\n",
       "      <td>HV0003</td>\n",
       "      <td>B03404</td>\n",
       "      <td>B03404</td>\n",
       "      <td>2022-11-01 00:05:30</td>\n",
       "      <td>2022-11-01 00:10:39</td>\n",
       "      <td>2022-11-01 00:12:40</td>\n",
       "      <td>2022-11-01 00:24:25</td>\n",
       "      <td>61</td>\n",
       "      <td>61</td>\n",
       "      <td>1.66</td>\n",
       "      <td>705</td>\n",
       "      <td>12.04</td>\n",
       "      <td>0.0</td>\n",
       "      <td>0.36</td>\n",
       "      <td>1.07</td>\n",
       "      <td>0.0</td>\n",
       "      <td>0.0</td>\n",
       "      <td>0.0</td>\n",
       "      <td>8.19</td>\n",
       "      <td>N</td>\n",
       "      <td>N</td>\n",
       "      <td></td>\n",
       "      <td>N</td>\n",
       "      <td>N</td>\n",
       "      <td>61</td>\n",
       "      <td>Brooklyn</td>\n",
       "      <td>Crown Heights North</td>\n",
       "      <td>Boro Zone</td>\n",
       "      <td>61</td>\n",
       "      <td>Brooklyn</td>\n",
       "      <td>Crown Heights North</td>\n",
       "      <td>Boro Zone</td>\n",
       "      <td>Brooklyn-Brooklyn</td>\n",
       "      <td>Crown Heights North-Crown Heights North</td>\n",
       "      <td>Boro Zone-Boro Zone</td>\n",
       "    </tr>\n",
       "  </tbody>\n",
       "</table>\n",
       "</div>"
      ],
      "text/plain": [
       "  hvfhs_license_num dispatching_base_num originating_base_num  \\\n",
       "0            HV0003               B03404               B03404   \n",
       "1            HV0003               B03404               B03404   \n",
       "2            HV0003               B03404               B03404   \n",
       "3            HV0003               B03404               B03404   \n",
       "4            HV0003               B03404               B03404   \n",
       "\n",
       "     request_datetime   on_scene_datetime     pickup_datetime  \\\n",
       "0 2022-11-01 00:04:09 2022-11-01 00:10:11 2022-11-01 00:10:31   \n",
       "1 2022-11-01 00:46:54 2022-11-01 00:49:32 2022-11-01 00:49:50   \n",
       "2 2022-11-01 00:08:02 2022-11-01 00:14:09 2022-11-01 00:14:31   \n",
       "3 2022-11-01 00:22:42 2022-11-01 00:25:05 2022-11-01 00:27:06   \n",
       "4 2022-11-01 00:05:30 2022-11-01 00:10:39 2022-11-01 00:12:40   \n",
       "\n",
       "     dropoff_datetime  PULocationID  DOLocationID  trip_miles  trip_time  \\\n",
       "0 2022-11-01 00:17:28            61            61        1.04        417   \n",
       "1 2022-11-01 00:53:39            61            61        0.57        229   \n",
       "2 2022-11-01 00:20:22            61            61        1.37        351   \n",
       "3 2022-11-01 00:33:40            61            61        0.51        394   \n",
       "4 2022-11-01 00:24:25            61            61        1.66        705   \n",
       "\n",
       "   base_passenger_fare  tolls   bcf  sales_tax  congestion_surcharge  \\\n",
       "0                 7.91    0.0  0.24       0.70                   0.0   \n",
       "1                 7.91    0.0  0.24       0.70                   0.0   \n",
       "2                 7.91    0.0  0.24       0.70                   0.0   \n",
       "3                10.83    0.0  0.32       0.96                   0.0   \n",
       "4                12.04    0.0  0.36       1.07                   0.0   \n",
       "\n",
       "   airport_fee  tips  driver_pay shared_request_flag shared_match_flag  \\\n",
       "0          0.0   0.0        5.40                   N                 N   \n",
       "1          0.0   0.0        6.67                   N                 N   \n",
       "2          0.0   0.0        5.40                   N                 N   \n",
       "3          0.0   1.0        7.16                   N                 N   \n",
       "4          0.0   0.0        8.19                   N                 N   \n",
       "\n",
       "  access_a_ride_flag wav_request_flag wav_match_flag  PULocationID_new  \\\n",
       "0                                   N              N                61   \n",
       "1                                   N              N                61   \n",
       "2                                   N              N                61   \n",
       "3                                   N              N                61   \n",
       "4                                   N              N                61   \n",
       "\n",
       "  PUBorough               PUZone PUservice_zone  DOLocationID_new DOBorough  \\\n",
       "0  Brooklyn  Crown Heights North      Boro Zone                61  Brooklyn   \n",
       "1  Brooklyn  Crown Heights North      Boro Zone                61  Brooklyn   \n",
       "2  Brooklyn  Crown Heights North      Boro Zone                61  Brooklyn   \n",
       "3  Brooklyn  Crown Heights North      Boro Zone                61  Brooklyn   \n",
       "4  Brooklyn  Crown Heights North      Boro Zone                61  Brooklyn   \n",
       "\n",
       "                DOZone DOservice_zone      route_borough  \\\n",
       "0  Crown Heights North      Boro Zone  Brooklyn-Brooklyn   \n",
       "1  Crown Heights North      Boro Zone  Brooklyn-Brooklyn   \n",
       "2  Crown Heights North      Boro Zone  Brooklyn-Brooklyn   \n",
       "3  Crown Heights North      Boro Zone  Brooklyn-Brooklyn   \n",
       "4  Crown Heights North      Boro Zone  Brooklyn-Brooklyn   \n",
       "\n",
       "                                route_zone   route_service_zone  \n",
       "0  Crown Heights North-Crown Heights North  Boro Zone-Boro Zone  \n",
       "1  Crown Heights North-Crown Heights North  Boro Zone-Boro Zone  \n",
       "2  Crown Heights North-Crown Heights North  Boro Zone-Boro Zone  \n",
       "3  Crown Heights North-Crown Heights North  Boro Zone-Boro Zone  \n",
       "4  Crown Heights North-Crown Heights North  Boro Zone-Boro Zone  "
      ]
     },
     "execution_count": 52,
     "metadata": {},
     "output_type": "execute_result"
    }
   ],
   "source": [
    "fhv_data.head()"
   ]
  },
  {
   "cell_type": "code",
   "execution_count": null,
   "id": "23a23954",
   "metadata": {},
   "outputs": [],
   "source": [
    "fhv_data.to_csv(\"fhv_data.csv\")"
   ]
  },
  {
   "cell_type": "code",
   "execution_count": 53,
   "id": "59fdc8b7",
   "metadata": {},
   "outputs": [
    {
     "data": {
      "text/plain": [
       "(12974802, 35)"
      ]
     },
     "execution_count": 53,
     "metadata": {},
     "output_type": "execute_result"
    }
   ],
   "source": [
    "fhv_data.shape"
   ]
  },
  {
   "cell_type": "code",
   "execution_count": null,
   "id": "7c82b162",
   "metadata": {},
   "outputs": [],
   "source": [
    "3130759 "
   ]
  },
  {
   "cell_type": "code",
   "execution_count": null,
   "id": "9a368724",
   "metadata": {},
   "outputs": [],
   "source": []
  },
  {
   "cell_type": "code",
   "execution_count": null,
   "id": "f4e85f75",
   "metadata": {},
   "outputs": [],
   "source": []
  },
  {
   "cell_type": "code",
   "execution_count": null,
   "id": "43019b7a",
   "metadata": {},
   "outputs": [],
   "source": []
  },
  {
   "cell_type": "code",
   "execution_count": null,
   "id": "f3030e07",
   "metadata": {},
   "outputs": [],
   "source": []
  },
  {
   "cell_type": "code",
   "execution_count": null,
   "id": "52fc1289",
   "metadata": {},
   "outputs": [],
   "source": []
  },
  {
   "cell_type": "markdown",
   "id": "c023aee0",
   "metadata": {},
   "source": [
    "## Top 10 borough-routes in terms of number of customers "
   ]
  },
  {
   "cell_type": "code",
   "execution_count": 109,
   "id": "f01533be",
   "metadata": {
    "scrolled": false
   },
   "outputs": [
    {
     "data": {
      "text/plain": [
       "<BarContainer object of 10 artists>"
      ]
     },
     "execution_count": 109,
     "metadata": {},
     "output_type": "execute_result"
    },
    {
     "data": {
      "image/png": "[encoded data removed]",
      "text/plain": [
       "<Figure size 864x504 with 1 Axes>"
      ]
     },
     "metadata": {
      "needs_background": "light"
     },
     "output_type": "display_data"
    }
   ],
   "source": [
    "plt.figure(figsize =(12,7))\n",
    "counts = trip_data_11.groupby('route_borough')['VendorID'].count().sort_values()\n",
    "top10 = counts.sort_values().tail(10)\n",
    "plt.xlabel('Borough')\n",
    "plt.ylabel('Number of trips')\n",
    "plt.title('Top 10 boroughs by number of trips')\n",
    "plt.xticks(fontsize=10,rotation = 20)\n",
    "plt.bar(top10.index[::-1], top10.values[::-1])"
   ]
  },
  {
   "cell_type": "code",
   "execution_count": 110,
   "id": "49194547",
   "metadata": {},
   "outputs": [
    {
     "data": {
      "text/plain": [
       "<BarContainer object of 10 artists>"
      ]
     },
     "execution_count": 110,
     "metadata": {},
     "output_type": "execute_result"
    },
    {
     "data": {
      "image/png": "[encoded data removed]",
      "text/plain": [
       "<Figure size 864x504 with 1 Axes>"
      ]
     },
     "metadata": {
      "needs_background": "light"
     },
     "output_type": "display_data"
    }
   ],
   "source": [
    "plt.figure(figsize =(12,7))\n",
    "counts = trip_data_11.groupby('route_borough')['fare_amount'].mean().sort_values()\n",
    "top10 = counts.sort_values().tail(10)\n",
    "plt.xlabel('Borough')\n",
    "plt.ylabel('Average fare amount')\n",
    "plt.title('Top 10 boroughs by average fare amount')\n",
    "plt.xticks(fontsize=10,rotation = 20)\n",
    "plt.bar(top10.index[::-1], top10.values[::-1])"
   ]
  },
  {
   "cell_type": "code",
   "execution_count": 73,
   "id": "48244ae2",
   "metadata": {},
   "outputs": [
    {
     "data": {
      "text/plain": [
       "route_service_zone\n",
       "EWR-Airports                     3\n",
       "EWR-Yellow Zone                 10\n",
       "Boro Zone-EWR                  122\n",
       "Airports-EWR                   259\n",
       "EWR-EWR                        752\n",
       "Boro Zone-Airports            3928\n",
       "Yellow Zone-EWR               7355\n",
       "Airports-Airports            14394\n",
       "Boro Zone-Boro Zone          52818\n",
       "Boro Zone-Yellow Zone        55807\n",
       "Yellow Zone-Airports         63279\n",
       "Airports-Boro Zone           93171\n",
       "Airports-Yellow Zone        144471\n",
       "Yellow Zone-Boro Zone       222277\n",
       "Yellow Zone-Yellow Zone    2407217\n",
       "Name: VendorID, dtype: int64"
      ]
     },
     "execution_count": 73,
     "metadata": {},
     "output_type": "execute_result"
    }
   ],
   "source": [
    "trip_data_11.groupby('route_service_zone')['VendorID'].count().sort_values()"
   ]
  },
  {
   "cell_type": "code",
   "execution_count": 90,
   "id": "74604a8a",
   "metadata": {
    "scrolled": true
   },
   "outputs": [
    {
     "name": "stderr",
     "output_type": "stream",
     "text": [
      "/var/folders/q6/t8qqpsn93h95rbj4pdrr_6l00000gn/T/ipykernel_88978/3905500582.py:2: FutureWarning: Series.dt.weekofyear and Series.dt.week have been deprecated. Please use Series.dt.isocalendar().week instead.\n",
      "  trip_data_11['Week_Number'] = trip_data_11['tpep_pickup_datetime'].dt.week\n"
     ]
    }
   ],
   "source": [
    "trip_data_11['dayOfWeek'] = trip_data_11['tpep_pickup_datetime'].dt.day_name()\n",
    "trip_data_11['Week_Number'] = trip_data_11['tpep_pickup_datetime'].dt.week"
   ]
  },
  {
   "cell_type": "code",
   "execution_count": 91,
   "id": "2b8f7432",
   "metadata": {},
   "outputs": [
    {
     "data": {
      "text/html": [
       "<div>\n",
       "<style scoped>\n",
       "    .dataframe tbody tr th:only-of-type {\n",
       "        vertical-align: middle;\n",
       "    }\n",
       "\n",
       "    .dataframe tbody tr th {\n",
       "        vertical-align: top;\n",
       "    }\n",
       "\n",
       "    .dataframe thead th {\n",
       "        text-align: right;\n",
       "    }\n",
       "</style>\n",
       "<table border=\"1\" class=\"dataframe\">\n",
       "  <thead>\n",
       "    <tr style=\"text-align: right;\">\n",
       "      <th></th>\n",
       "      <th>VendorID</th>\n",
       "      <th>tpep_pickup_datetime</th>\n",
       "      <th>tpep_dropoff_datetime</th>\n",
       "      <th>passenger_count</th>\n",
       "      <th>trip_distance</th>\n",
       "      <th>RatecodeID</th>\n",
       "      <th>store_and_fwd_flag</th>\n",
       "      <th>PULocationID</th>\n",
       "      <th>DOLocationID</th>\n",
       "      <th>payment_type</th>\n",
       "      <th>...</th>\n",
       "      <th>PUservice_zone</th>\n",
       "      <th>DOLocationID_new</th>\n",
       "      <th>DOBorough</th>\n",
       "      <th>DOZone</th>\n",
       "      <th>DOservice_zone</th>\n",
       "      <th>route_borough</th>\n",
       "      <th>route_zone</th>\n",
       "      <th>route_service_zone</th>\n",
       "      <th>dayOfWeek</th>\n",
       "      <th>Week_Number</th>\n",
       "    </tr>\n",
       "  </thead>\n",
       "  <tbody>\n",
       "    <tr>\n",
       "      <th>0</th>\n",
       "      <td>1</td>\n",
       "      <td>2022-11-01 00:51:22</td>\n",
       "      <td>2022-11-01 00:56:24</td>\n",
       "      <td>1.0</td>\n",
       "      <td>0.60</td>\n",
       "      <td>1.0</td>\n",
       "      <td>N</td>\n",
       "      <td>151</td>\n",
       "      <td>151</td>\n",
       "      <td>2</td>\n",
       "      <td>...</td>\n",
       "      <td>Yellow Zone</td>\n",
       "      <td>151</td>\n",
       "      <td>Manhattan</td>\n",
       "      <td>Manhattan Valley</td>\n",
       "      <td>Yellow Zone</td>\n",
       "      <td>Manhattan-Manhattan</td>\n",
       "      <td>Manhattan Valley-Manhattan Valley</td>\n",
       "      <td>Yellow Zone-Yellow Zone</td>\n",
       "      <td>Tuesday</td>\n",
       "      <td>44</td>\n",
       "    </tr>\n",
       "    <tr>\n",
       "      <th>1</th>\n",
       "      <td>2</td>\n",
       "      <td>2022-11-01 00:41:59</td>\n",
       "      <td>2022-11-01 00:46:35</td>\n",
       "      <td>1.0</td>\n",
       "      <td>0.60</td>\n",
       "      <td>1.0</td>\n",
       "      <td>N</td>\n",
       "      <td>151</td>\n",
       "      <td>151</td>\n",
       "      <td>2</td>\n",
       "      <td>...</td>\n",
       "      <td>Yellow Zone</td>\n",
       "      <td>151</td>\n",
       "      <td>Manhattan</td>\n",
       "      <td>Manhattan Valley</td>\n",
       "      <td>Yellow Zone</td>\n",
       "      <td>Manhattan-Manhattan</td>\n",
       "      <td>Manhattan Valley-Manhattan Valley</td>\n",
       "      <td>Yellow Zone-Yellow Zone</td>\n",
       "      <td>Tuesday</td>\n",
       "      <td>44</td>\n",
       "    </tr>\n",
       "    <tr>\n",
       "      <th>2</th>\n",
       "      <td>2</td>\n",
       "      <td>2022-11-01 01:12:52</td>\n",
       "      <td>2022-11-01 01:14:03</td>\n",
       "      <td>1.0</td>\n",
       "      <td>0.39</td>\n",
       "      <td>2.0</td>\n",
       "      <td>N</td>\n",
       "      <td>151</td>\n",
       "      <td>151</td>\n",
       "      <td>1</td>\n",
       "      <td>...</td>\n",
       "      <td>Yellow Zone</td>\n",
       "      <td>151</td>\n",
       "      <td>Manhattan</td>\n",
       "      <td>Manhattan Valley</td>\n",
       "      <td>Yellow Zone</td>\n",
       "      <td>Manhattan-Manhattan</td>\n",
       "      <td>Manhattan Valley-Manhattan Valley</td>\n",
       "      <td>Yellow Zone-Yellow Zone</td>\n",
       "      <td>Tuesday</td>\n",
       "      <td>44</td>\n",
       "    </tr>\n",
       "    <tr>\n",
       "      <th>3</th>\n",
       "      <td>1</td>\n",
       "      <td>2022-11-01 06:59:18</td>\n",
       "      <td>2022-11-01 07:03:39</td>\n",
       "      <td>1.0</td>\n",
       "      <td>0.60</td>\n",
       "      <td>1.0</td>\n",
       "      <td>N</td>\n",
       "      <td>151</td>\n",
       "      <td>151</td>\n",
       "      <td>2</td>\n",
       "      <td>...</td>\n",
       "      <td>Yellow Zone</td>\n",
       "      <td>151</td>\n",
       "      <td>Manhattan</td>\n",
       "      <td>Manhattan Valley</td>\n",
       "      <td>Yellow Zone</td>\n",
       "      <td>Manhattan-Manhattan</td>\n",
       "      <td>Manhattan Valley-Manhattan Valley</td>\n",
       "      <td>Yellow Zone-Yellow Zone</td>\n",
       "      <td>Tuesday</td>\n",
       "      <td>44</td>\n",
       "    </tr>\n",
       "    <tr>\n",
       "      <th>4</th>\n",
       "      <td>2</td>\n",
       "      <td>2022-11-01 06:37:53</td>\n",
       "      <td>2022-11-01 06:40:53</td>\n",
       "      <td>1.0</td>\n",
       "      <td>0.61</td>\n",
       "      <td>1.0</td>\n",
       "      <td>N</td>\n",
       "      <td>151</td>\n",
       "      <td>151</td>\n",
       "      <td>2</td>\n",
       "      <td>...</td>\n",
       "      <td>Yellow Zone</td>\n",
       "      <td>151</td>\n",
       "      <td>Manhattan</td>\n",
       "      <td>Manhattan Valley</td>\n",
       "      <td>Yellow Zone</td>\n",
       "      <td>Manhattan-Manhattan</td>\n",
       "      <td>Manhattan Valley-Manhattan Valley</td>\n",
       "      <td>Yellow Zone-Yellow Zone</td>\n",
       "      <td>Tuesday</td>\n",
       "      <td>44</td>\n",
       "    </tr>\n",
       "  </tbody>\n",
       "</table>\n",
       "<p>5 rows × 32 columns</p>\n",
       "</div>"
      ],
      "text/plain": [
       "   VendorID tpep_pickup_datetime tpep_dropoff_datetime  passenger_count  \\\n",
       "0         1  2022-11-01 00:51:22   2022-11-01 00:56:24              1.0   \n",
       "1         2  2022-11-01 00:41:59   2022-11-01 00:46:35              1.0   \n",
       "2         2  2022-11-01 01:12:52   2022-11-01 01:14:03              1.0   \n",
       "3         1  2022-11-01 06:59:18   2022-11-01 07:03:39              1.0   \n",
       "4         2  2022-11-01 06:37:53   2022-11-01 06:40:53              1.0   \n",
       "\n",
       "   trip_distance  RatecodeID store_and_fwd_flag  PULocationID  DOLocationID  \\\n",
       "0           0.60         1.0                  N           151           151   \n",
       "1           0.60         1.0                  N           151           151   \n",
       "2           0.39         2.0                  N           151           151   \n",
       "3           0.60         1.0                  N           151           151   \n",
       "4           0.61         1.0                  N           151           151   \n",
       "\n",
       "   payment_type  ...  PUservice_zone  DOLocationID_new  DOBorough  \\\n",
       "0             2  ...     Yellow Zone               151  Manhattan   \n",
       "1             2  ...     Yellow Zone               151  Manhattan   \n",
       "2             1  ...     Yellow Zone               151  Manhattan   \n",
       "3             2  ...     Yellow Zone               151  Manhattan   \n",
       "4             2  ...     Yellow Zone               151  Manhattan   \n",
       "\n",
       "             DOZone  DOservice_zone        route_borough  \\\n",
       "0  Manhattan Valley     Yellow Zone  Manhattan-Manhattan   \n",
       "1  Manhattan Valley     Yellow Zone  Manhattan-Manhattan   \n",
       "2  Manhattan Valley     Yellow Zone  Manhattan-Manhattan   \n",
       "3  Manhattan Valley     Yellow Zone  Manhattan-Manhattan   \n",
       "4  Manhattan Valley     Yellow Zone  Manhattan-Manhattan   \n",
       "\n",
       "                          route_zone       route_service_zone  dayOfWeek  \\\n",
       "0  Manhattan Valley-Manhattan Valley  Yellow Zone-Yellow Zone    Tuesday   \n",
       "1  Manhattan Valley-Manhattan Valley  Yellow Zone-Yellow Zone    Tuesday   \n",
       "2  Manhattan Valley-Manhattan Valley  Yellow Zone-Yellow Zone    Tuesday   \n",
       "3  Manhattan Valley-Manhattan Valley  Yellow Zone-Yellow Zone    Tuesday   \n",
       "4  Manhattan Valley-Manhattan Valley  Yellow Zone-Yellow Zone    Tuesday   \n",
       "\n",
       "   Week_Number  \n",
       "0           44  \n",
       "1           44  \n",
       "2           44  \n",
       "3           44  \n",
       "4           44  \n",
       "\n",
       "[5 rows x 32 columns]"
      ]
     },
     "execution_count": 91,
     "metadata": {},
     "output_type": "execute_result"
    }
   ],
   "source": [
    "trip_data_11.head()"
   ]
  },
  {
   "cell_type": "code",
   "execution_count": 92,
   "id": "dd889532",
   "metadata": {},
   "outputs": [],
   "source": [
    "trip_data_11.to_parquet(\"trip_data_modified.parquet\")"
   ]
  },
  {
   "cell_type": "code",
   "execution_count": null,
   "id": "53fa47b8",
   "metadata": {},
   "outputs": [],
   "source": []
  },
  {
   "cell_type": "code",
   "execution_count": null,
   "id": "6ff1ce27",
   "metadata": {},
   "outputs": [],
   "source": []
  },
  {
   "cell_type": "code",
   "execution_count": null,
   "id": "b1a50d39",
   "metadata": {},
   "outputs": [],
   "source": []
  }
 ],
 "metadata": {
  "hide_input": false,
  "kernelspec": {
   "display_name": "Python 3 (ipykernel)",
   "language": "python",
   "name": "python3"
  },
  "language_info": {
   "codemirror_mode": {
    "name": "ipython",
    "version": 3
   },
   "file_extension": ".py",
   "mimetype": "text/x-python",
   "name": "python",
   "nbconvert_exporter": "python",
   "pygments_lexer": "ipython3",
   "version": "3.9.12"
  },
  "toc": {
   "base_numbering": 1,
   "nav_menu": {},
   "number_sections": true,
   "sideBar": true,
   "skip_h1_title": false,
   "title_cell": "Table of Contents",
   "title_sidebar": "Contents",
   "toc_cell": false,
   "toc_position": {},
   "toc_section_display": true,
   "toc_window_display": false
  }
 },
 "nbformat": 4,
 "nbformat_minor": 5
}
